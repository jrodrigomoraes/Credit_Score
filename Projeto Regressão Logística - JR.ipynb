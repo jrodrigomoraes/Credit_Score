{
 "cells": [
  {
   "cell_type": "markdown",
   "id": "1a769328",
   "metadata": {},
   "source": [
    "# Projeto - Avaliação de Score com Machine Learning"
   ]
  },
  {
   "cell_type": "markdown",
   "id": "6dd13f54",
   "metadata": {},
   "source": [
    "[Link da base no Kaggle:](https://www.kaggle.com/datasets/parisrohan/credit-score-classification)"
   ]
  },
  {
   "cell_type": "markdown",
   "id": "6b7ee90d",
   "metadata": {},
   "source": [
    "<b>Descrição do Projeto</b>\n",
    "\n",
    "\n",
    "O objetivo deste projeto é criar um modelo de classificação que possa prever a pontuação de crédito de uma pessoa com base em diversas variáveis financeiras. Este tipo de análise é extremamente útil para bancos e instituições financeiras na avaliação de risco de crédito."
   ]
  },
  {
   "cell_type": "markdown",
   "id": "526a91d0",
   "metadata": {},
   "source": [
    "![Minha Imagem](dados.jpg)"
   ]
  },
  {
   "cell_type": "code",
   "execution_count": 83,
   "id": "d18a0ca1",
   "metadata": {},
   "outputs": [],
   "source": [
    "import pandas as pd\n",
    "import numpy as np\n",
    "import seaborn as sns\n",
    "import matplotlib.pyplot as plt\n",
    "from sklearn.ensemble import RandomForestClassifier\n",
    "from sklearn.preprocessing import LabelEncoder\n",
    "from sklearn.preprocessing import OneHotEncoder\n",
    "from sklearn.preprocessing import TargetEncoder\n",
    "from sklearn.preprocessing import RobustScaler\n",
    "from sklearn.model_selection import train_test_split\n",
    "from sklearn.metrics import accuracy_score, confusion_matrix, classification_report\n",
    "from sklearn.ensemble import RandomForestClassifier\n",
    "from sklearn.linear_model import LogisticRegression"
   ]
  },
  {
   "cell_type": "code",
   "execution_count": 2,
   "id": "fc59fa7f",
   "metadata": {},
   "outputs": [],
   "source": [
    "df_treino = pd.read_csv('train.csv', low_memory=False)\n",
    "df_teste = pd.read_csv('test.csv', low_memory=False)"
   ]
  },
  {
   "cell_type": "code",
   "execution_count": 3,
   "id": "6be24758",
   "metadata": {},
   "outputs": [
    {
     "data": {
      "text/plain": [
       "(100000, 28)"
      ]
     },
     "execution_count": 3,
     "metadata": {},
     "output_type": "execute_result"
    }
   ],
   "source": [
    "df_treino.shape"
   ]
  },
  {
   "cell_type": "code",
   "execution_count": 4,
   "id": "5f6057c0",
   "metadata": {},
   "outputs": [
    {
     "name": "stdout",
     "output_type": "stream",
     "text": [
      "<class 'pandas.core.frame.DataFrame'>\n",
      "RangeIndex: 100000 entries, 0 to 99999\n",
      "Data columns (total 28 columns):\n",
      " #   Column                    Non-Null Count   Dtype  \n",
      "---  ------                    --------------   -----  \n",
      " 0   ID                        100000 non-null  object \n",
      " 1   Customer_ID               100000 non-null  object \n",
      " 2   Month                     100000 non-null  object \n",
      " 3   Name                      90015 non-null   object \n",
      " 4   Age                       100000 non-null  object \n",
      " 5   SSN                       100000 non-null  object \n",
      " 6   Occupation                100000 non-null  object \n",
      " 7   Annual_Income             100000 non-null  object \n",
      " 8   Monthly_Inhand_Salary     84998 non-null   float64\n",
      " 9   Num_Bank_Accounts         100000 non-null  int64  \n",
      " 10  Num_Credit_Card           100000 non-null  int64  \n",
      " 11  Interest_Rate             100000 non-null  int64  \n",
      " 12  Num_of_Loan               100000 non-null  object \n",
      " 13  Type_of_Loan              88592 non-null   object \n",
      " 14  Delay_from_due_date       100000 non-null  int64  \n",
      " 15  Num_of_Delayed_Payment    92998 non-null   object \n",
      " 16  Changed_Credit_Limit      100000 non-null  object \n",
      " 17  Num_Credit_Inquiries      98035 non-null   float64\n",
      " 18  Credit_Mix                100000 non-null  object \n",
      " 19  Outstanding_Debt          100000 non-null  object \n",
      " 20  Credit_Utilization_Ratio  100000 non-null  float64\n",
      " 21  Credit_History_Age        90970 non-null   object \n",
      " 22  Payment_of_Min_Amount     100000 non-null  object \n",
      " 23  Total_EMI_per_month       100000 non-null  float64\n",
      " 24  Amount_invested_monthly   95521 non-null   object \n",
      " 25  Payment_Behaviour         100000 non-null  object \n",
      " 26  Monthly_Balance           98800 non-null   object \n",
      " 27  Credit_Score              100000 non-null  object \n",
      "dtypes: float64(4), int64(4), object(20)\n",
      "memory usage: 21.4+ MB\n"
     ]
    }
   ],
   "source": [
    "df_treino.info()"
   ]
  },
  {
   "cell_type": "code",
   "execution_count": 5,
   "id": "fdf2e69a",
   "metadata": {},
   "outputs": [
    {
     "data": {
      "text/html": [
       "<div>\n",
       "<style scoped>\n",
       "    .dataframe tbody tr th:only-of-type {\n",
       "        vertical-align: middle;\n",
       "    }\n",
       "\n",
       "    .dataframe tbody tr th {\n",
       "        vertical-align: top;\n",
       "    }\n",
       "\n",
       "    .dataframe thead th {\n",
       "        text-align: right;\n",
       "    }\n",
       "</style>\n",
       "<table border=\"1\" class=\"dataframe\">\n",
       "  <thead>\n",
       "    <tr style=\"text-align: right;\">\n",
       "      <th></th>\n",
       "      <th>ID</th>\n",
       "      <th>Customer_ID</th>\n",
       "      <th>Month</th>\n",
       "      <th>Name</th>\n",
       "      <th>Age</th>\n",
       "      <th>SSN</th>\n",
       "      <th>Occupation</th>\n",
       "      <th>Annual_Income</th>\n",
       "      <th>Monthly_Inhand_Salary</th>\n",
       "      <th>Num_Bank_Accounts</th>\n",
       "      <th>...</th>\n",
       "      <th>Credit_Mix</th>\n",
       "      <th>Outstanding_Debt</th>\n",
       "      <th>Credit_Utilization_Ratio</th>\n",
       "      <th>Credit_History_Age</th>\n",
       "      <th>Payment_of_Min_Amount</th>\n",
       "      <th>Total_EMI_per_month</th>\n",
       "      <th>Amount_invested_monthly</th>\n",
       "      <th>Payment_Behaviour</th>\n",
       "      <th>Monthly_Balance</th>\n",
       "      <th>Credit_Score</th>\n",
       "    </tr>\n",
       "  </thead>\n",
       "  <tbody>\n",
       "    <tr>\n",
       "      <th>95459</th>\n",
       "      <td>0x24555</td>\n",
       "      <td>CUS_0x8798</td>\n",
       "      <td>April</td>\n",
       "      <td>Antonella Cinelliv</td>\n",
       "      <td>45</td>\n",
       "      <td>685-55-7349</td>\n",
       "      <td>Architect</td>\n",
       "      <td>35348.12</td>\n",
       "      <td>2890.676667</td>\n",
       "      <td>1</td>\n",
       "      <td>...</td>\n",
       "      <td>_</td>\n",
       "      <td>1316.73</td>\n",
       "      <td>30.216217</td>\n",
       "      <td>18 Years and 5 Months</td>\n",
       "      <td>No</td>\n",
       "      <td>32.747967</td>\n",
       "      <td>116.16974236858215</td>\n",
       "      <td>High_spent_Medium_value_payments</td>\n",
       "      <td>390.1499577266467</td>\n",
       "      <td>Good</td>\n",
       "    </tr>\n",
       "    <tr>\n",
       "      <th>49596</th>\n",
       "      <td>0x1389a</td>\n",
       "      <td>CUS_0x6f11</td>\n",
       "      <td>May</td>\n",
       "      <td>Oliviaj</td>\n",
       "      <td>26</td>\n",
       "      <td>881-68-5762</td>\n",
       "      <td>Developer</td>\n",
       "      <td>30815.44</td>\n",
       "      <td>NaN</td>\n",
       "      <td>5</td>\n",
       "      <td>...</td>\n",
       "      <td>Standard</td>\n",
       "      <td>1413.42</td>\n",
       "      <td>33.429982</td>\n",
       "      <td>11 Years and 5 Months</td>\n",
       "      <td>Yes</td>\n",
       "      <td>56.177029</td>\n",
       "      <td>32.60925815669312</td>\n",
       "      <td>High_spent_Medium_value_payments</td>\n",
       "      <td>436.6090466426812</td>\n",
       "      <td>Standard</td>\n",
       "    </tr>\n",
       "    <tr>\n",
       "      <th>14069</th>\n",
       "      <td>0x686f</td>\n",
       "      <td>CUS_0x1f8c</td>\n",
       "      <td>June</td>\n",
       "      <td>Dolanl</td>\n",
       "      <td>37</td>\n",
       "      <td>745-18-8559</td>\n",
       "      <td>Musician</td>\n",
       "      <td>106418.67</td>\n",
       "      <td>8961.222500</td>\n",
       "      <td>3</td>\n",
       "      <td>...</td>\n",
       "      <td>Standard</td>\n",
       "      <td>848.03</td>\n",
       "      <td>26.248052</td>\n",
       "      <td>5 Years and 6 Months</td>\n",
       "      <td>Yes</td>\n",
       "      <td>239.245750</td>\n",
       "      <td>535.1711458395138</td>\n",
       "      <td>High_spent_Small_value_payments</td>\n",
       "      <td>381.7053543576744</td>\n",
       "      <td>Standard</td>\n",
       "    </tr>\n",
       "    <tr>\n",
       "      <th>51373</th>\n",
       "      <td>0x14303</td>\n",
       "      <td>CUS_0x707c</td>\n",
       "      <td>June</td>\n",
       "      <td>Busvinew</td>\n",
       "      <td>33</td>\n",
       "      <td>670-84-4853</td>\n",
       "      <td>Writer</td>\n",
       "      <td>142496.12</td>\n",
       "      <td>11649.676667</td>\n",
       "      <td>4</td>\n",
       "      <td>...</td>\n",
       "      <td>Standard</td>\n",
       "      <td>460.79</td>\n",
       "      <td>36.597666</td>\n",
       "      <td>19 Years and 3 Months</td>\n",
       "      <td>No</td>\n",
       "      <td>0.000000</td>\n",
       "      <td>627.3584126524023</td>\n",
       "      <td>High_spent_Small_value_payments</td>\n",
       "      <td>797.6092540142645</td>\n",
       "      <td>Standard</td>\n",
       "    </tr>\n",
       "    <tr>\n",
       "      <th>86299</th>\n",
       "      <td>0x20fa9</td>\n",
       "      <td>CUS_0x2509</td>\n",
       "      <td>April</td>\n",
       "      <td>Jonesu</td>\n",
       "      <td>14</td>\n",
       "      <td>#F%$D@*&amp;8</td>\n",
       "      <td>Entrepreneur</td>\n",
       "      <td>37777.92</td>\n",
       "      <td>3055.160000</td>\n",
       "      <td>3</td>\n",
       "      <td>...</td>\n",
       "      <td>Standard</td>\n",
       "      <td>1336.0</td>\n",
       "      <td>26.778224</td>\n",
       "      <td>8 Years and 8 Months</td>\n",
       "      <td>Yes</td>\n",
       "      <td>100.427950</td>\n",
       "      <td>61.97512163396557</td>\n",
       "      <td>High_spent_Medium_value_payments</td>\n",
       "      <td>393.1129286101314</td>\n",
       "      <td>Poor</td>\n",
       "    </tr>\n",
       "    <tr>\n",
       "      <th>73968</th>\n",
       "      <td>0x1c76a</td>\n",
       "      <td>CUS_0x5a82</td>\n",
       "      <td>January</td>\n",
       "      <td>Jonathan Lefff</td>\n",
       "      <td>25</td>\n",
       "      <td>896-84-7984</td>\n",
       "      <td>Writer</td>\n",
       "      <td>33467.15</td>\n",
       "      <td>NaN</td>\n",
       "      <td>7</td>\n",
       "      <td>...</td>\n",
       "      <td>Good</td>\n",
       "      <td>1294.23</td>\n",
       "      <td>33.518311</td>\n",
       "      <td>30 Years and 3 Months</td>\n",
       "      <td>No</td>\n",
       "      <td>0.000000</td>\n",
       "      <td>367.191469365368</td>\n",
       "      <td>Low_spent_Small_value_payments</td>\n",
       "      <td>226.80144730129882</td>\n",
       "      <td>Good</td>\n",
       "    </tr>\n",
       "  </tbody>\n",
       "</table>\n",
       "<p>6 rows × 28 columns</p>\n",
       "</div>"
      ],
      "text/plain": [
       "            ID Customer_ID    Month                Name Age          SSN  \\\n",
       "95459  0x24555  CUS_0x8798    April  Antonella Cinelliv  45  685-55-7349   \n",
       "49596  0x1389a  CUS_0x6f11      May             Oliviaj  26  881-68-5762   \n",
       "14069   0x686f  CUS_0x1f8c     June              Dolanl  37  745-18-8559   \n",
       "51373  0x14303  CUS_0x707c     June            Busvinew  33  670-84-4853   \n",
       "86299  0x20fa9  CUS_0x2509    April              Jonesu  14    #F%$D@*&8   \n",
       "73968  0x1c76a  CUS_0x5a82  January      Jonathan Lefff  25  896-84-7984   \n",
       "\n",
       "         Occupation Annual_Income  Monthly_Inhand_Salary  Num_Bank_Accounts  \\\n",
       "95459     Architect      35348.12            2890.676667                  1   \n",
       "49596     Developer      30815.44                    NaN                  5   \n",
       "14069      Musician     106418.67            8961.222500                  3   \n",
       "51373        Writer     142496.12           11649.676667                  4   \n",
       "86299  Entrepreneur      37777.92            3055.160000                  3   \n",
       "73968        Writer      33467.15                    NaN                  7   \n",
       "\n",
       "       ...  Credit_Mix  Outstanding_Debt Credit_Utilization_Ratio  \\\n",
       "95459  ...           _           1316.73                30.216217   \n",
       "49596  ...    Standard           1413.42                33.429982   \n",
       "14069  ...    Standard            848.03                26.248052   \n",
       "51373  ...    Standard            460.79                36.597666   \n",
       "86299  ...    Standard            1336.0                26.778224   \n",
       "73968  ...        Good           1294.23                33.518311   \n",
       "\n",
       "          Credit_History_Age  Payment_of_Min_Amount Total_EMI_per_month  \\\n",
       "95459  18 Years and 5 Months                     No           32.747967   \n",
       "49596  11 Years and 5 Months                    Yes           56.177029   \n",
       "14069   5 Years and 6 Months                    Yes          239.245750   \n",
       "51373  19 Years and 3 Months                     No            0.000000   \n",
       "86299   8 Years and 8 Months                    Yes          100.427950   \n",
       "73968  30 Years and 3 Months                     No            0.000000   \n",
       "\n",
       "      Amount_invested_monthly                 Payment_Behaviour  \\\n",
       "95459      116.16974236858215  High_spent_Medium_value_payments   \n",
       "49596       32.60925815669312  High_spent_Medium_value_payments   \n",
       "14069       535.1711458395138   High_spent_Small_value_payments   \n",
       "51373       627.3584126524023   High_spent_Small_value_payments   \n",
       "86299       61.97512163396557  High_spent_Medium_value_payments   \n",
       "73968        367.191469365368    Low_spent_Small_value_payments   \n",
       "\n",
       "          Monthly_Balance Credit_Score  \n",
       "95459   390.1499577266467         Good  \n",
       "49596   436.6090466426812     Standard  \n",
       "14069   381.7053543576744     Standard  \n",
       "51373   797.6092540142645     Standard  \n",
       "86299   393.1129286101314         Poor  \n",
       "73968  226.80144730129882         Good  \n",
       "\n",
       "[6 rows x 28 columns]"
      ]
     },
     "execution_count": 5,
     "metadata": {},
     "output_type": "execute_result"
    }
   ],
   "source": [
    "df_treino.sample(6)"
   ]
  },
  {
   "cell_type": "code",
   "execution_count": 6,
   "id": "a8b8335b",
   "metadata": {},
   "outputs": [
    {
     "data": {
      "text/html": [
       "<div>\n",
       "<style scoped>\n",
       "    .dataframe tbody tr th:only-of-type {\n",
       "        vertical-align: middle;\n",
       "    }\n",
       "\n",
       "    .dataframe tbody tr th {\n",
       "        vertical-align: top;\n",
       "    }\n",
       "\n",
       "    .dataframe thead th {\n",
       "        text-align: right;\n",
       "    }\n",
       "</style>\n",
       "<table border=\"1\" class=\"dataframe\">\n",
       "  <thead>\n",
       "    <tr style=\"text-align: right;\">\n",
       "      <th></th>\n",
       "      <th>Monthly_Inhand_Salary</th>\n",
       "      <th>Num_Bank_Accounts</th>\n",
       "      <th>Num_Credit_Card</th>\n",
       "      <th>Interest_Rate</th>\n",
       "      <th>Delay_from_due_date</th>\n",
       "      <th>Num_Credit_Inquiries</th>\n",
       "      <th>Credit_Utilization_Ratio</th>\n",
       "      <th>Total_EMI_per_month</th>\n",
       "    </tr>\n",
       "  </thead>\n",
       "  <tbody>\n",
       "    <tr>\n",
       "      <th>count</th>\n",
       "      <td>84998.000000</td>\n",
       "      <td>100000.000000</td>\n",
       "      <td>100000.00000</td>\n",
       "      <td>100000.000000</td>\n",
       "      <td>100000.000000</td>\n",
       "      <td>98035.000000</td>\n",
       "      <td>100000.000000</td>\n",
       "      <td>100000.000000</td>\n",
       "    </tr>\n",
       "    <tr>\n",
       "      <th>mean</th>\n",
       "      <td>4194.170850</td>\n",
       "      <td>17.091280</td>\n",
       "      <td>22.47443</td>\n",
       "      <td>72.466040</td>\n",
       "      <td>21.068780</td>\n",
       "      <td>27.754251</td>\n",
       "      <td>32.285173</td>\n",
       "      <td>1403.118217</td>\n",
       "    </tr>\n",
       "    <tr>\n",
       "      <th>std</th>\n",
       "      <td>3183.686167</td>\n",
       "      <td>117.404834</td>\n",
       "      <td>129.05741</td>\n",
       "      <td>466.422621</td>\n",
       "      <td>14.860104</td>\n",
       "      <td>193.177339</td>\n",
       "      <td>5.116875</td>\n",
       "      <td>8306.041270</td>\n",
       "    </tr>\n",
       "    <tr>\n",
       "      <th>min</th>\n",
       "      <td>303.645417</td>\n",
       "      <td>-1.000000</td>\n",
       "      <td>0.00000</td>\n",
       "      <td>1.000000</td>\n",
       "      <td>-5.000000</td>\n",
       "      <td>0.000000</td>\n",
       "      <td>20.000000</td>\n",
       "      <td>0.000000</td>\n",
       "    </tr>\n",
       "    <tr>\n",
       "      <th>25%</th>\n",
       "      <td>1625.568229</td>\n",
       "      <td>3.000000</td>\n",
       "      <td>4.00000</td>\n",
       "      <td>8.000000</td>\n",
       "      <td>10.000000</td>\n",
       "      <td>3.000000</td>\n",
       "      <td>28.052567</td>\n",
       "      <td>30.306660</td>\n",
       "    </tr>\n",
       "    <tr>\n",
       "      <th>50%</th>\n",
       "      <td>3093.745000</td>\n",
       "      <td>6.000000</td>\n",
       "      <td>5.00000</td>\n",
       "      <td>13.000000</td>\n",
       "      <td>18.000000</td>\n",
       "      <td>6.000000</td>\n",
       "      <td>32.305784</td>\n",
       "      <td>69.249473</td>\n",
       "    </tr>\n",
       "    <tr>\n",
       "      <th>75%</th>\n",
       "      <td>5957.448333</td>\n",
       "      <td>7.000000</td>\n",
       "      <td>7.00000</td>\n",
       "      <td>20.000000</td>\n",
       "      <td>28.000000</td>\n",
       "      <td>9.000000</td>\n",
       "      <td>36.496663</td>\n",
       "      <td>161.224249</td>\n",
       "    </tr>\n",
       "    <tr>\n",
       "      <th>max</th>\n",
       "      <td>15204.633333</td>\n",
       "      <td>1798.000000</td>\n",
       "      <td>1499.00000</td>\n",
       "      <td>5797.000000</td>\n",
       "      <td>67.000000</td>\n",
       "      <td>2597.000000</td>\n",
       "      <td>50.000000</td>\n",
       "      <td>82331.000000</td>\n",
       "    </tr>\n",
       "  </tbody>\n",
       "</table>\n",
       "</div>"
      ],
      "text/plain": [
       "       Monthly_Inhand_Salary  Num_Bank_Accounts  Num_Credit_Card  \\\n",
       "count           84998.000000      100000.000000     100000.00000   \n",
       "mean             4194.170850          17.091280         22.47443   \n",
       "std              3183.686167         117.404834        129.05741   \n",
       "min               303.645417          -1.000000          0.00000   \n",
       "25%              1625.568229           3.000000          4.00000   \n",
       "50%              3093.745000           6.000000          5.00000   \n",
       "75%              5957.448333           7.000000          7.00000   \n",
       "max             15204.633333        1798.000000       1499.00000   \n",
       "\n",
       "       Interest_Rate  Delay_from_due_date  Num_Credit_Inquiries  \\\n",
       "count  100000.000000        100000.000000          98035.000000   \n",
       "mean       72.466040            21.068780             27.754251   \n",
       "std       466.422621            14.860104            193.177339   \n",
       "min         1.000000            -5.000000              0.000000   \n",
       "25%         8.000000            10.000000              3.000000   \n",
       "50%        13.000000            18.000000              6.000000   \n",
       "75%        20.000000            28.000000              9.000000   \n",
       "max      5797.000000            67.000000           2597.000000   \n",
       "\n",
       "       Credit_Utilization_Ratio  Total_EMI_per_month  \n",
       "count             100000.000000        100000.000000  \n",
       "mean                  32.285173          1403.118217  \n",
       "std                    5.116875          8306.041270  \n",
       "min                   20.000000             0.000000  \n",
       "25%                   28.052567            30.306660  \n",
       "50%                   32.305784            69.249473  \n",
       "75%                   36.496663           161.224249  \n",
       "max                   50.000000         82331.000000  "
      ]
     },
     "execution_count": 6,
     "metadata": {},
     "output_type": "execute_result"
    }
   ],
   "source": [
    "df_treino.describe()"
   ]
  },
  {
   "cell_type": "markdown",
   "id": "b6faedbc",
   "metadata": {},
   "source": [
    "Colunas numéricas:\n",
    "\n",
    "Monthly_Inhand_Salary\n",
    "Num_Bank_Accounts\n",
    "Num_Credit_Card\n",
    "Interest_Rate\n",
    "Delay_from_due_date\n",
    "Num_Credit_Inquiries\n",
    "Credit_Utilization_Ratio\n",
    "Total_EMI_per_month\n",
    "Age\n",
    "Annual_Income\n",
    "Num_of_Loan\n",
    "Num_of_Delayed_Payment\n",
    "Changed_Credit_Limit\n",
    "Outstanding_Debt\n",
    "Amount_invested_monthly\n",
    "Monthly_Balance\n",
    "\n",
    "Colunas categóricas:\n",
    "Occupation\n",
    "TypeofLoan\n",
    "CreditMix\n",
    "CreditHistoryAge\n",
    "PaymentofMinAmount\n",
    "PaymentBehaviour\n",
    "CreditScore\n",
    "\n",
    "\n",
    "Irrelavant columns for the problem:\n",
    "ID\n",
    "Customer_ID\n",
    "Month\n",
    "Name\n",
    "SSN"
   ]
  },
  {
   "cell_type": "code",
   "execution_count": 7,
   "id": "46c47575",
   "metadata": {},
   "outputs": [],
   "source": [
    "#Eliminando colunas irrelevantes nos dataframe de treino e teste\n",
    "df_treino = df_treino.drop(columns=['ID', 'Customer_ID', 'Month', 'Name', 'SSN'], axis=1)\n",
    "df_teste = df_teste.drop(columns=['ID', 'Customer_ID', 'Month', 'Name', 'SSN'], axis=1)"
   ]
  },
  {
   "cell_type": "code",
   "execution_count": 8,
   "id": "7033f741",
   "metadata": {},
   "outputs": [
    {
     "data": {
      "text/plain": [
       "Index(['Age', 'Occupation', 'Annual_Income', 'Monthly_Inhand_Salary',\n",
       "       'Num_Bank_Accounts', 'Num_Credit_Card', 'Interest_Rate', 'Num_of_Loan',\n",
       "       'Type_of_Loan', 'Delay_from_due_date', 'Num_of_Delayed_Payment',\n",
       "       'Changed_Credit_Limit', 'Num_Credit_Inquiries', 'Credit_Mix',\n",
       "       'Outstanding_Debt', 'Credit_Utilization_Ratio', 'Credit_History_Age',\n",
       "       'Payment_of_Min_Amount', 'Total_EMI_per_month',\n",
       "       'Amount_invested_monthly', 'Payment_Behaviour', 'Monthly_Balance',\n",
       "       'Credit_Score'],\n",
       "      dtype='object')"
      ]
     },
     "execution_count": 8,
     "metadata": {},
     "output_type": "execute_result"
    }
   ],
   "source": [
    "df_treino.columns"
   ]
  },
  {
   "cell_type": "code",
   "execution_count": 9,
   "id": "90b4035c",
   "metadata": {},
   "outputs": [
    {
     "data": {
      "text/plain": [
       "Monthly_Inhand_Salary       15002\n",
       "Type_of_Loan                11408\n",
       "Credit_History_Age           9030\n",
       "Num_of_Delayed_Payment       7002\n",
       "Amount_invested_monthly      4479\n",
       "Num_Credit_Inquiries         1965\n",
       "Monthly_Balance              1200\n",
       "Age                             0\n",
       "Outstanding_Debt                0\n",
       "Payment_Behaviour               0\n",
       "Total_EMI_per_month             0\n",
       "Payment_of_Min_Amount           0\n",
       "Credit_Utilization_Ratio        0\n",
       "Changed_Credit_Limit            0\n",
       "Credit_Mix                      0\n",
       "Occupation                      0\n",
       "Delay_from_due_date             0\n",
       "Num_of_Loan                     0\n",
       "Interest_Rate                   0\n",
       "Num_Credit_Card                 0\n",
       "Num_Bank_Accounts               0\n",
       "Annual_Income                   0\n",
       "Credit_Score                    0\n",
       "dtype: int64"
      ]
     },
     "execution_count": 9,
     "metadata": {},
     "output_type": "execute_result"
    }
   ],
   "source": [
    "#Verificando valores nulos\n",
    "df_treino.isnull().sum().sort_values(ascending=False)"
   ]
  },
  {
   "cell_type": "code",
   "execution_count": 10,
   "id": "008ebc25",
   "metadata": {},
   "outputs": [
    {
     "data": {
      "text/html": [
       "<div>\n",
       "<style scoped>\n",
       "    .dataframe tbody tr th:only-of-type {\n",
       "        vertical-align: middle;\n",
       "    }\n",
       "\n",
       "    .dataframe tbody tr th {\n",
       "        vertical-align: top;\n",
       "    }\n",
       "\n",
       "    .dataframe thead th {\n",
       "        text-align: right;\n",
       "    }\n",
       "</style>\n",
       "<table border=\"1\" class=\"dataframe\">\n",
       "  <thead>\n",
       "    <tr style=\"text-align: right;\">\n",
       "      <th></th>\n",
       "      <th>Age</th>\n",
       "      <th>Occupation</th>\n",
       "      <th>Annual_Income</th>\n",
       "      <th>Monthly_Inhand_Salary</th>\n",
       "      <th>Num_Bank_Accounts</th>\n",
       "      <th>Num_Credit_Card</th>\n",
       "      <th>Interest_Rate</th>\n",
       "      <th>Num_of_Loan</th>\n",
       "      <th>Type_of_Loan</th>\n",
       "      <th>Delay_from_due_date</th>\n",
       "      <th>...</th>\n",
       "      <th>Credit_Mix</th>\n",
       "      <th>Outstanding_Debt</th>\n",
       "      <th>Credit_Utilization_Ratio</th>\n",
       "      <th>Credit_History_Age</th>\n",
       "      <th>Payment_of_Min_Amount</th>\n",
       "      <th>Total_EMI_per_month</th>\n",
       "      <th>Amount_invested_monthly</th>\n",
       "      <th>Payment_Behaviour</th>\n",
       "      <th>Monthly_Balance</th>\n",
       "      <th>Credit_Score</th>\n",
       "    </tr>\n",
       "  </thead>\n",
       "  <tbody>\n",
       "    <tr>\n",
       "      <th>0</th>\n",
       "      <td>23</td>\n",
       "      <td>Scientist</td>\n",
       "      <td>19114.12</td>\n",
       "      <td>1824.843333</td>\n",
       "      <td>3</td>\n",
       "      <td>4</td>\n",
       "      <td>3</td>\n",
       "      <td>4</td>\n",
       "      <td>Auto Loan, Credit-Builder Loan, Personal Loan,...</td>\n",
       "      <td>3</td>\n",
       "      <td>...</td>\n",
       "      <td>_</td>\n",
       "      <td>809.98</td>\n",
       "      <td>26.822620</td>\n",
       "      <td>22 Years and 1 Months</td>\n",
       "      <td>No</td>\n",
       "      <td>49.574949</td>\n",
       "      <td>80.41529543900253</td>\n",
       "      <td>High_spent_Small_value_payments</td>\n",
       "      <td>312.49408867943663</td>\n",
       "      <td>Good</td>\n",
       "    </tr>\n",
       "    <tr>\n",
       "      <th>1</th>\n",
       "      <td>23</td>\n",
       "      <td>Scientist</td>\n",
       "      <td>19114.12</td>\n",
       "      <td>NaN</td>\n",
       "      <td>3</td>\n",
       "      <td>4</td>\n",
       "      <td>3</td>\n",
       "      <td>4</td>\n",
       "      <td>Auto Loan, Credit-Builder Loan, Personal Loan,...</td>\n",
       "      <td>-1</td>\n",
       "      <td>...</td>\n",
       "      <td>Good</td>\n",
       "      <td>809.98</td>\n",
       "      <td>31.944960</td>\n",
       "      <td>NaN</td>\n",
       "      <td>No</td>\n",
       "      <td>49.574949</td>\n",
       "      <td>118.28022162236736</td>\n",
       "      <td>Low_spent_Large_value_payments</td>\n",
       "      <td>284.62916249607184</td>\n",
       "      <td>Good</td>\n",
       "    </tr>\n",
       "    <tr>\n",
       "      <th>2</th>\n",
       "      <td>-500</td>\n",
       "      <td>Scientist</td>\n",
       "      <td>19114.12</td>\n",
       "      <td>NaN</td>\n",
       "      <td>3</td>\n",
       "      <td>4</td>\n",
       "      <td>3</td>\n",
       "      <td>4</td>\n",
       "      <td>Auto Loan, Credit-Builder Loan, Personal Loan,...</td>\n",
       "      <td>3</td>\n",
       "      <td>...</td>\n",
       "      <td>Good</td>\n",
       "      <td>809.98</td>\n",
       "      <td>28.609352</td>\n",
       "      <td>22 Years and 3 Months</td>\n",
       "      <td>No</td>\n",
       "      <td>49.574949</td>\n",
       "      <td>81.699521264648</td>\n",
       "      <td>Low_spent_Medium_value_payments</td>\n",
       "      <td>331.2098628537912</td>\n",
       "      <td>Good</td>\n",
       "    </tr>\n",
       "    <tr>\n",
       "      <th>3</th>\n",
       "      <td>23</td>\n",
       "      <td>Scientist</td>\n",
       "      <td>19114.12</td>\n",
       "      <td>NaN</td>\n",
       "      <td>3</td>\n",
       "      <td>4</td>\n",
       "      <td>3</td>\n",
       "      <td>4</td>\n",
       "      <td>Auto Loan, Credit-Builder Loan, Personal Loan,...</td>\n",
       "      <td>5</td>\n",
       "      <td>...</td>\n",
       "      <td>Good</td>\n",
       "      <td>809.98</td>\n",
       "      <td>31.377862</td>\n",
       "      <td>22 Years and 4 Months</td>\n",
       "      <td>No</td>\n",
       "      <td>49.574949</td>\n",
       "      <td>199.4580743910713</td>\n",
       "      <td>Low_spent_Small_value_payments</td>\n",
       "      <td>223.45130972736786</td>\n",
       "      <td>Good</td>\n",
       "    </tr>\n",
       "    <tr>\n",
       "      <th>4</th>\n",
       "      <td>23</td>\n",
       "      <td>Scientist</td>\n",
       "      <td>19114.12</td>\n",
       "      <td>1824.843333</td>\n",
       "      <td>3</td>\n",
       "      <td>4</td>\n",
       "      <td>3</td>\n",
       "      <td>4</td>\n",
       "      <td>Auto Loan, Credit-Builder Loan, Personal Loan,...</td>\n",
       "      <td>6</td>\n",
       "      <td>...</td>\n",
       "      <td>Good</td>\n",
       "      <td>809.98</td>\n",
       "      <td>24.797347</td>\n",
       "      <td>22 Years and 5 Months</td>\n",
       "      <td>No</td>\n",
       "      <td>49.574949</td>\n",
       "      <td>41.420153086217326</td>\n",
       "      <td>High_spent_Medium_value_payments</td>\n",
       "      <td>341.48923103222177</td>\n",
       "      <td>Good</td>\n",
       "    </tr>\n",
       "    <tr>\n",
       "      <th>...</th>\n",
       "      <td>...</td>\n",
       "      <td>...</td>\n",
       "      <td>...</td>\n",
       "      <td>...</td>\n",
       "      <td>...</td>\n",
       "      <td>...</td>\n",
       "      <td>...</td>\n",
       "      <td>...</td>\n",
       "      <td>...</td>\n",
       "      <td>...</td>\n",
       "      <td>...</td>\n",
       "      <td>...</td>\n",
       "      <td>...</td>\n",
       "      <td>...</td>\n",
       "      <td>...</td>\n",
       "      <td>...</td>\n",
       "      <td>...</td>\n",
       "      <td>...</td>\n",
       "      <td>...</td>\n",
       "      <td>...</td>\n",
       "      <td>...</td>\n",
       "    </tr>\n",
       "    <tr>\n",
       "      <th>99995</th>\n",
       "      <td>25</td>\n",
       "      <td>Mechanic</td>\n",
       "      <td>39628.99</td>\n",
       "      <td>3359.415833</td>\n",
       "      <td>4</td>\n",
       "      <td>6</td>\n",
       "      <td>7</td>\n",
       "      <td>2</td>\n",
       "      <td>Auto Loan, and Student Loan</td>\n",
       "      <td>23</td>\n",
       "      <td>...</td>\n",
       "      <td>_</td>\n",
       "      <td>502.38</td>\n",
       "      <td>34.663572</td>\n",
       "      <td>31 Years and 6 Months</td>\n",
       "      <td>No</td>\n",
       "      <td>35.104023</td>\n",
       "      <td>60.97133255718485</td>\n",
       "      <td>High_spent_Large_value_payments</td>\n",
       "      <td>479.86622816574095</td>\n",
       "      <td>Poor</td>\n",
       "    </tr>\n",
       "    <tr>\n",
       "      <th>99996</th>\n",
       "      <td>25</td>\n",
       "      <td>Mechanic</td>\n",
       "      <td>39628.99</td>\n",
       "      <td>3359.415833</td>\n",
       "      <td>4</td>\n",
       "      <td>6</td>\n",
       "      <td>7</td>\n",
       "      <td>2</td>\n",
       "      <td>Auto Loan, and Student Loan</td>\n",
       "      <td>18</td>\n",
       "      <td>...</td>\n",
       "      <td>_</td>\n",
       "      <td>502.38</td>\n",
       "      <td>40.565631</td>\n",
       "      <td>31 Years and 7 Months</td>\n",
       "      <td>No</td>\n",
       "      <td>35.104023</td>\n",
       "      <td>54.18595028760385</td>\n",
       "      <td>High_spent_Medium_value_payments</td>\n",
       "      <td>496.651610435322</td>\n",
       "      <td>Poor</td>\n",
       "    </tr>\n",
       "    <tr>\n",
       "      <th>99997</th>\n",
       "      <td>25</td>\n",
       "      <td>Mechanic</td>\n",
       "      <td>39628.99</td>\n",
       "      <td>3359.415833</td>\n",
       "      <td>4</td>\n",
       "      <td>6</td>\n",
       "      <td>5729</td>\n",
       "      <td>2</td>\n",
       "      <td>Auto Loan, and Student Loan</td>\n",
       "      <td>27</td>\n",
       "      <td>...</td>\n",
       "      <td>Good</td>\n",
       "      <td>502.38</td>\n",
       "      <td>41.255522</td>\n",
       "      <td>31 Years and 8 Months</td>\n",
       "      <td>No</td>\n",
       "      <td>35.104023</td>\n",
       "      <td>24.02847744864441</td>\n",
       "      <td>High_spent_Large_value_payments</td>\n",
       "      <td>516.8090832742814</td>\n",
       "      <td>Poor</td>\n",
       "    </tr>\n",
       "    <tr>\n",
       "      <th>99998</th>\n",
       "      <td>25</td>\n",
       "      <td>Mechanic</td>\n",
       "      <td>39628.99</td>\n",
       "      <td>3359.415833</td>\n",
       "      <td>4</td>\n",
       "      <td>6</td>\n",
       "      <td>7</td>\n",
       "      <td>2</td>\n",
       "      <td>Auto Loan, and Student Loan</td>\n",
       "      <td>20</td>\n",
       "      <td>...</td>\n",
       "      <td>Good</td>\n",
       "      <td>502.38</td>\n",
       "      <td>33.638208</td>\n",
       "      <td>31 Years and 9 Months</td>\n",
       "      <td>No</td>\n",
       "      <td>35.104023</td>\n",
       "      <td>251.67258219721603</td>\n",
       "      <td>Low_spent_Large_value_payments</td>\n",
       "      <td>319.1649785257098</td>\n",
       "      <td>Standard</td>\n",
       "    </tr>\n",
       "    <tr>\n",
       "      <th>99999</th>\n",
       "      <td>25</td>\n",
       "      <td>Mechanic</td>\n",
       "      <td>39628.99_</td>\n",
       "      <td>3359.415833</td>\n",
       "      <td>4</td>\n",
       "      <td>6</td>\n",
       "      <td>7</td>\n",
       "      <td>2</td>\n",
       "      <td>Auto Loan, and Student Loan</td>\n",
       "      <td>18</td>\n",
       "      <td>...</td>\n",
       "      <td>Good</td>\n",
       "      <td>502.38</td>\n",
       "      <td>34.192463</td>\n",
       "      <td>31 Years and 10 Months</td>\n",
       "      <td>No</td>\n",
       "      <td>35.104023</td>\n",
       "      <td>167.1638651610451</td>\n",
       "      <td>!@9#%8</td>\n",
       "      <td>393.6736955618808</td>\n",
       "      <td>Poor</td>\n",
       "    </tr>\n",
       "  </tbody>\n",
       "</table>\n",
       "<p>100000 rows × 23 columns</p>\n",
       "</div>"
      ],
      "text/plain": [
       "        Age Occupation Annual_Income  Monthly_Inhand_Salary  \\\n",
       "0        23  Scientist      19114.12            1824.843333   \n",
       "1        23  Scientist      19114.12                    NaN   \n",
       "2      -500  Scientist      19114.12                    NaN   \n",
       "3        23  Scientist      19114.12                    NaN   \n",
       "4        23  Scientist      19114.12            1824.843333   \n",
       "...     ...        ...           ...                    ...   \n",
       "99995    25   Mechanic      39628.99            3359.415833   \n",
       "99996    25   Mechanic      39628.99            3359.415833   \n",
       "99997    25   Mechanic      39628.99            3359.415833   \n",
       "99998    25   Mechanic      39628.99            3359.415833   \n",
       "99999    25   Mechanic     39628.99_            3359.415833   \n",
       "\n",
       "       Num_Bank_Accounts  Num_Credit_Card  Interest_Rate Num_of_Loan  \\\n",
       "0                      3                4              3           4   \n",
       "1                      3                4              3           4   \n",
       "2                      3                4              3           4   \n",
       "3                      3                4              3           4   \n",
       "4                      3                4              3           4   \n",
       "...                  ...              ...            ...         ...   \n",
       "99995                  4                6              7           2   \n",
       "99996                  4                6              7           2   \n",
       "99997                  4                6           5729           2   \n",
       "99998                  4                6              7           2   \n",
       "99999                  4                6              7           2   \n",
       "\n",
       "                                            Type_of_Loan  Delay_from_due_date  \\\n",
       "0      Auto Loan, Credit-Builder Loan, Personal Loan,...                    3   \n",
       "1      Auto Loan, Credit-Builder Loan, Personal Loan,...                   -1   \n",
       "2      Auto Loan, Credit-Builder Loan, Personal Loan,...                    3   \n",
       "3      Auto Loan, Credit-Builder Loan, Personal Loan,...                    5   \n",
       "4      Auto Loan, Credit-Builder Loan, Personal Loan,...                    6   \n",
       "...                                                  ...                  ...   \n",
       "99995                        Auto Loan, and Student Loan                   23   \n",
       "99996                        Auto Loan, and Student Loan                   18   \n",
       "99997                        Auto Loan, and Student Loan                   27   \n",
       "99998                        Auto Loan, and Student Loan                   20   \n",
       "99999                        Auto Loan, and Student Loan                   18   \n",
       "\n",
       "       ... Credit_Mix Outstanding_Debt  Credit_Utilization_Ratio  \\\n",
       "0      ...          _           809.98                 26.822620   \n",
       "1      ...       Good           809.98                 31.944960   \n",
       "2      ...       Good           809.98                 28.609352   \n",
       "3      ...       Good           809.98                 31.377862   \n",
       "4      ...       Good           809.98                 24.797347   \n",
       "...    ...        ...              ...                       ...   \n",
       "99995  ...          _           502.38                 34.663572   \n",
       "99996  ...          _           502.38                 40.565631   \n",
       "99997  ...       Good           502.38                 41.255522   \n",
       "99998  ...       Good           502.38                 33.638208   \n",
       "99999  ...       Good           502.38                 34.192463   \n",
       "\n",
       "           Credit_History_Age Payment_of_Min_Amount  Total_EMI_per_month  \\\n",
       "0       22 Years and 1 Months                    No            49.574949   \n",
       "1                         NaN                    No            49.574949   \n",
       "2       22 Years and 3 Months                    No            49.574949   \n",
       "3       22 Years and 4 Months                    No            49.574949   \n",
       "4       22 Years and 5 Months                    No            49.574949   \n",
       "...                       ...                   ...                  ...   \n",
       "99995   31 Years and 6 Months                    No            35.104023   \n",
       "99996   31 Years and 7 Months                    No            35.104023   \n",
       "99997   31 Years and 8 Months                    No            35.104023   \n",
       "99998   31 Years and 9 Months                    No            35.104023   \n",
       "99999  31 Years and 10 Months                    No            35.104023   \n",
       "\n",
       "      Amount_invested_monthly                 Payment_Behaviour  \\\n",
       "0           80.41529543900253   High_spent_Small_value_payments   \n",
       "1          118.28022162236736    Low_spent_Large_value_payments   \n",
       "2             81.699521264648   Low_spent_Medium_value_payments   \n",
       "3           199.4580743910713    Low_spent_Small_value_payments   \n",
       "4          41.420153086217326  High_spent_Medium_value_payments   \n",
       "...                       ...                               ...   \n",
       "99995       60.97133255718485   High_spent_Large_value_payments   \n",
       "99996       54.18595028760385  High_spent_Medium_value_payments   \n",
       "99997       24.02847744864441   High_spent_Large_value_payments   \n",
       "99998      251.67258219721603    Low_spent_Large_value_payments   \n",
       "99999       167.1638651610451                            !@9#%8   \n",
       "\n",
       "          Monthly_Balance Credit_Score  \n",
       "0      312.49408867943663         Good  \n",
       "1      284.62916249607184         Good  \n",
       "2       331.2098628537912         Good  \n",
       "3      223.45130972736786         Good  \n",
       "4      341.48923103222177         Good  \n",
       "...                   ...          ...  \n",
       "99995  479.86622816574095         Poor  \n",
       "99996    496.651610435322         Poor  \n",
       "99997   516.8090832742814         Poor  \n",
       "99998   319.1649785257098     Standard  \n",
       "99999   393.6736955618808         Poor  \n",
       "\n",
       "[100000 rows x 23 columns]"
      ]
     },
     "execution_count": 10,
     "metadata": {},
     "output_type": "execute_result"
    }
   ],
   "source": [
    "df_treino"
   ]
  },
  {
   "cell_type": "code",
   "execution_count": 11,
   "id": "c4d60c8c",
   "metadata": {},
   "outputs": [],
   "source": [
    "#Vamos fazer uma limpeza no formato que estão alguns dados.\n",
    "df_treino = df_treino.applymap(\n",
    "    lambda x: x if x is np.NaN or not \\\n",
    "        isinstance(x, str) else str(x).strip('_')).replace(\n",
    "            ['', 'nan', '!@9#%8', '#F%$D@*&8'], np.NaN\n",
    "        )"
   ]
  },
  {
   "cell_type": "code",
   "execution_count": 12,
   "id": "87892413",
   "metadata": {},
   "outputs": [],
   "source": [
    "#Fazendo o mesmo para os dados de teste\n",
    "df_teste = df_teste.applymap(\n",
    "    lambda x: x if x is np.NaN or not \\\n",
    "        isinstance(x, str) else str(x).strip('_')).replace(\n",
    "            ['', 'nan', '!@9#%8', '#F%$D@*&8'], np.NaN\n",
    "        )"
   ]
  },
  {
   "cell_type": "code",
   "execution_count": 13,
   "id": "a5cc63c4",
   "metadata": {},
   "outputs": [
    {
     "data": {
      "text/plain": [
       "Credit_Mix                  20195\n",
       "Monthly_Inhand_Salary       15002\n",
       "Type_of_Loan                11408\n",
       "Credit_History_Age           9030\n",
       "Payment_Behaviour            7600\n",
       "Occupation                   7062\n",
       "Num_of_Delayed_Payment       7002\n",
       "Amount_invested_monthly      4479\n",
       "Changed_Credit_Limit         2091\n",
       "Num_Credit_Inquiries         1965\n",
       "Monthly_Balance              1200\n",
       "Credit_Utilization_Ratio        0\n",
       "Total_EMI_per_month             0\n",
       "Payment_of_Min_Amount           0\n",
       "Age                             0\n",
       "Outstanding_Debt                0\n",
       "Delay_from_due_date             0\n",
       "Num_of_Loan                     0\n",
       "Interest_Rate                   0\n",
       "Num_Credit_Card                 0\n",
       "Num_Bank_Accounts               0\n",
       "Annual_Income                   0\n",
       "Credit_Score                    0\n",
       "dtype: int64"
      ]
     },
     "execution_count": 13,
     "metadata": {},
     "output_type": "execute_result"
    }
   ],
   "source": [
    "df_treino.isnull().sum().sort_values(ascending=False)"
   ]
  },
  {
   "cell_type": "markdown",
   "id": "6d510404",
   "metadata": {},
   "source": [
    "Repare que agora o número de NaN's aumento."
   ]
  },
  {
   "cell_type": "code",
   "execution_count": 14,
   "id": "3c515df3",
   "metadata": {},
   "outputs": [
    {
     "data": {
      "text/plain": [
       "Age                          object\n",
       "Occupation                   object\n",
       "Annual_Income                object\n",
       "Monthly_Inhand_Salary       float64\n",
       "Num_Bank_Accounts             int64\n",
       "Num_Credit_Card               int64\n",
       "Interest_Rate                 int64\n",
       "Num_of_Loan                  object\n",
       "Type_of_Loan                 object\n",
       "Delay_from_due_date           int64\n",
       "Num_of_Delayed_Payment       object\n",
       "Changed_Credit_Limit         object\n",
       "Num_Credit_Inquiries        float64\n",
       "Credit_Mix                   object\n",
       "Outstanding_Debt             object\n",
       "Credit_Utilization_Ratio    float64\n",
       "Credit_History_Age           object\n",
       "Payment_of_Min_Amount        object\n",
       "Total_EMI_per_month         float64\n",
       "Amount_invested_monthly      object\n",
       "Payment_Behaviour            object\n",
       "Monthly_Balance              object\n",
       "Credit_Score                 object\n",
       "dtype: object"
      ]
     },
     "execution_count": 14,
     "metadata": {},
     "output_type": "execute_result"
    }
   ],
   "source": [
    "df_treino.dtypes"
   ]
  },
  {
   "cell_type": "markdown",
   "id": "30a5f59a",
   "metadata": {},
   "source": [
    "Repare que alguns colunas numéricas estão como objetcs, vamos transformar todas elas em número."
   ]
  },
  {
   "cell_type": "code",
   "execution_count": 15,
   "id": "f6419f65",
   "metadata": {},
   "outputs": [],
   "source": [
    "#Para Treino\n",
    "df_treino.Age = df_treino.Age.astype(int)\n",
    "df_treino.Annual_Income = df_treino.Annual_Income.astype(float)\n",
    "df_treino.Num_of_Loan = df_treino.Num_of_Loan.astype(int)\n",
    "df_treino.Num_of_Delayed_Payment = df_treino.Num_of_Delayed_Payment.astype(float)\n",
    "df_treino.Changed_Credit_Limit = df_treino.Changed_Credit_Limit.astype(float)\n",
    "df_treino.Outstanding_Debt = df_treino.Outstanding_Debt.astype(float)\n",
    "df_treino.Amount_invested_monthly = df_treino.Amount_invested_monthly.astype(float)\n",
    "df_treino.Monthly_Balance = df_treino.Monthly_Balance.astype(float)\n",
    "\n",
    "#Para Teste\n",
    "df_teste.Age = df_teste.Age.astype(int)\n",
    "df_teste.Annual_Income = df_teste.Annual_Income.astype(float)\n",
    "df_teste.Num_of_Loan = df_teste.Num_of_Loan.astype(int)\n",
    "df_teste.Num_of_Delayed_Payment = df_teste.Num_of_Delayed_Payment.astype(float)\n",
    "df_teste.Changed_Credit_Limit = df_teste.Changed_Credit_Limit.astype(float)\n",
    "df_teste.Outstanding_Debt = df_teste.Outstanding_Debt.astype(float)\n",
    "df_teste.Amount_invested_monthly = df_teste.Amount_invested_monthly.astype(float)\n",
    "df_teste.Monthly_Balance = df_teste.Monthly_Balance.astype(float)"
   ]
  },
  {
   "cell_type": "code",
   "execution_count": 16,
   "id": "15f34daf",
   "metadata": {},
   "outputs": [
    {
     "data": {
      "text/plain": [
       "Age\n",
       "5419       1\n",
       "3625       1\n",
       "6354       1\n",
       "3724       1\n",
       "480        1\n",
       "        ... \n",
       "32      2884\n",
       "26      2945\n",
       "31      2955\n",
       "28      2968\n",
       "38      2994\n",
       "Name: count, Length: 1728, dtype: int64"
      ]
     },
     "execution_count": 16,
     "metadata": {},
     "output_type": "execute_result"
    }
   ],
   "source": [
    "df_treino['Age'].value_counts().sort_values(ascending=True)"
   ]
  },
  {
   "cell_type": "code",
   "execution_count": 17,
   "id": "0245488e",
   "metadata": {},
   "outputs": [],
   "source": [
    "#Vamos filtrar a Idade, pois havia idades < 0 e idades > 100(o que pode acontecer, mas pra efeitos vamos desconsiderar)\n",
    "df_treinofiltrado = df_treino[(df_treino['Age'] < 100) & (df_treino['Age'] > 0)]\n",
    "df_testefiltrado = df_teste[(df_teste['Age'] < 100) & (df_teste['Age'] > 0)]"
   ]
  },
  {
   "cell_type": "code",
   "execution_count": 18,
   "id": "363667e1",
   "metadata": {},
   "outputs": [],
   "source": [
    "#Vamos extrair apenas os anos da coluna Credit_History_Age e desconsiderar os meses.\n",
    "def puxa_anos(val):\n",
    "    if val is not None:\n",
    "        anos = str(val).strip()[0:2]\n",
    "        return anos\n",
    "    return None\n",
    "\n",
    "df_treinofiltrado.loc[:, 'Credit_History_Age'] = df_treinofiltrado['Credit_History_Age'].apply(puxa_anos)\n",
    "df_treinofiltrado.loc[:, 'Credit_History_Age'] = df_treinofiltrado['Credit_History_Age'].replace({'na': np.NaN})\n",
    "\n",
    "df_testefiltrado.loc[:, 'Credit_History_Age'] = df_testefiltrado['Credit_History_Age'].apply(puxa_anos)\n",
    "df_testefiltrado.loc[:, 'Credit_History_Age'] = df_testefiltrado['Credit_History_Age'].replace({'na': np.NaN}) "
   ]
  },
  {
   "cell_type": "markdown",
   "id": "a91142c0",
   "metadata": {},
   "source": [
    "Antes de partir para a visualização da base e para o modelo em si, vamos tratar os valores faltantes."
   ]
  },
  {
   "cell_type": "code",
   "execution_count": 19,
   "id": "8b17bd20",
   "metadata": {},
   "outputs": [
    {
     "data": {
      "text/html": [
       "<div>\n",
       "<style scoped>\n",
       "    .dataframe tbody tr th:only-of-type {\n",
       "        vertical-align: middle;\n",
       "    }\n",
       "\n",
       "    .dataframe tbody tr th {\n",
       "        vertical-align: top;\n",
       "    }\n",
       "\n",
       "    .dataframe thead th {\n",
       "        text-align: right;\n",
       "    }\n",
       "</style>\n",
       "<table border=\"1\" class=\"dataframe\">\n",
       "  <thead>\n",
       "    <tr style=\"text-align: right;\">\n",
       "      <th></th>\n",
       "      <th>missing_count</th>\n",
       "      <th>missing_percent</th>\n",
       "    </tr>\n",
       "  </thead>\n",
       "  <tbody>\n",
       "    <tr>\n",
       "      <th>Credit_Mix</th>\n",
       "      <td>19633</td>\n",
       "      <td>20.193781</td>\n",
       "    </tr>\n",
       "    <tr>\n",
       "      <th>Monthly_Inhand_Salary</th>\n",
       "      <td>14597</td>\n",
       "      <td>15.013937</td>\n",
       "    </tr>\n",
       "    <tr>\n",
       "      <th>Type_of_Loan</th>\n",
       "      <td>11076</td>\n",
       "      <td>11.392366</td>\n",
       "    </tr>\n",
       "    <tr>\n",
       "      <th>Credit_History_Age</th>\n",
       "      <td>8792</td>\n",
       "      <td>9.043128</td>\n",
       "    </tr>\n",
       "    <tr>\n",
       "      <th>Payment_Behaviour</th>\n",
       "      <td>7377</td>\n",
       "      <td>7.587711</td>\n",
       "    </tr>\n",
       "    <tr>\n",
       "      <th>Occupation</th>\n",
       "      <td>6873</td>\n",
       "      <td>7.069315</td>\n",
       "    </tr>\n",
       "    <tr>\n",
       "      <th>Num_of_Delayed_Payment</th>\n",
       "      <td>6824</td>\n",
       "      <td>7.018915</td>\n",
       "    </tr>\n",
       "    <tr>\n",
       "      <th>Amount_invested_monthly</th>\n",
       "      <td>4344</td>\n",
       "      <td>4.468079</td>\n",
       "    </tr>\n",
       "    <tr>\n",
       "      <th>Changed_Credit_Limit</th>\n",
       "      <td>2037</td>\n",
       "      <td>2.095183</td>\n",
       "    </tr>\n",
       "    <tr>\n",
       "      <th>Num_Credit_Inquiries</th>\n",
       "      <td>1906</td>\n",
       "      <td>1.960441</td>\n",
       "    </tr>\n",
       "    <tr>\n",
       "      <th>Monthly_Balance</th>\n",
       "      <td>1179</td>\n",
       "      <td>1.212676</td>\n",
       "    </tr>\n",
       "  </tbody>\n",
       "</table>\n",
       "</div>"
      ],
      "text/plain": [
       "                         missing_count  missing_percent\n",
       "Credit_Mix                       19633        20.193781\n",
       "Monthly_Inhand_Salary            14597        15.013937\n",
       "Type_of_Loan                     11076        11.392366\n",
       "Credit_History_Age                8792         9.043128\n",
       "Payment_Behaviour                 7377         7.587711\n",
       "Occupation                        6873         7.069315\n",
       "Num_of_Delayed_Payment            6824         7.018915\n",
       "Amount_invested_monthly           4344         4.468079\n",
       "Changed_Credit_Limit              2037         2.095183\n",
       "Num_Credit_Inquiries              1906         1.960441\n",
       "Monthly_Balance                   1179         1.212676"
      ]
     },
     "execution_count": 19,
     "metadata": {},
     "output_type": "execute_result"
    }
   ],
   "source": [
    "#Relatório dados faltantes\n",
    "def missing_report(df):\n",
    "    missing = df.isnull().sum()\n",
    "    percent = (missing / len(df)) * 100\n",
    "    report = pd.DataFrame({'missing_count': missing, 'missing_percent': percent})\n",
    "    report = report[report['missing_count'] > 0].sort_values(by='missing_percent', ascending=False)\n",
    "    return report\n",
    "\n",
    "missing_report(df_treinofiltrado)"
   ]
  },
  {
   "cell_type": "code",
   "execution_count": 20,
   "id": "1d769272",
   "metadata": {},
   "outputs": [],
   "source": [
    "df_treinofiltrado.loc[:, 'Credit_History_Age'] = pd.to_numeric(df_treinofiltrado['Credit_History_Age'], errors='coerce').astype('Int64')\n",
    "df_testefiltrado.loc[:, 'Credit_History_Age'] = pd.to_numeric(df_testefiltrado['Credit_History_Age'], errors='coerce').astype('Int64')\n",
    "\n",
    "\n",
    "#Separar em colunas numéricas e categóricas\n",
    "catecols = df_treinofiltrado.select_dtypes(include=['object', 'category']).columns.tolist()\n",
    "numcols = df_treinofiltrado.select_dtypes(include=['int32', 'int64', 'float64']).columns.tolist()"
   ]
  },
  {
   "cell_type": "markdown",
   "id": "0974c75f",
   "metadata": {},
   "source": [
    "### Avaliando a importância de cada coluna."
   ]
  },
  {
   "cell_type": "code",
   "execution_count": 21,
   "id": "20b1c837",
   "metadata": {},
   "outputs": [],
   "source": [
    "def obtendo_feature_importancia(df, target):\n",
    "    df_temp = df.copy()\n",
    "    df_temp = df_temp.dropna()\n",
    "    \n",
    "    le = LabelEncoder()\n",
    "    for col in df_temp.select_dtypes(include='object').columns:\n",
    "        df_temp[col] = le.fit_transform(df_temp[col])\n",
    "        \n",
    "    X = df_temp.drop(target, axis=1)\n",
    "    y = df_temp[target]\n",
    "    \n",
    "    model = RandomForestClassifier(n_estimators=100)  #Se fosse modelo de Regressão seria RandomForestRegressor(n_estimators=100)\n",
    "    model.fit(X, y)\n",
    "    importances = pd.Series(model.feature_importances_, index=X.columns)\n",
    "    return importances.sort_values(ascending=False)"
   ]
  },
  {
   "cell_type": "code",
   "execution_count": 22,
   "id": "6353108f",
   "metadata": {},
   "outputs": [
    {
     "data": {
      "text/plain": [
       "Outstanding_Debt            0.107521\n",
       "Interest_Rate               0.076799\n",
       "Credit_Mix                  0.071571\n",
       "Changed_Credit_Limit        0.059050\n",
       "Delay_from_due_date         0.058254\n",
       "Num_Credit_Inquiries        0.052497\n",
       "Monthly_Balance             0.047089\n",
       "Credit_Utilization_Ratio    0.045762\n",
       "Amount_invested_monthly     0.045469\n",
       "Credit_History_Age          0.044425\n",
       "Total_EMI_per_month         0.041273\n",
       "Monthly_Inhand_Salary       0.040301\n",
       "Type_of_Loan                0.039789\n",
       "Num_of_Delayed_Payment      0.039275\n",
       "Annual_Income               0.038644\n",
       "Age                         0.036863\n",
       "Num_Credit_Card             0.035652\n",
       "Num_Bank_Accounts           0.028797\n",
       "Occupation                  0.027128\n",
       "Num_of_Loan                 0.022252\n",
       "Payment_Behaviour           0.021161\n",
       "Payment_of_Min_Amount       0.020428\n",
       "dtype: float64"
      ]
     },
     "execution_count": 22,
     "metadata": {},
     "output_type": "execute_result"
    }
   ],
   "source": [
    "obtendo_feature_importancia(df_treinofiltrado, 'Credit_Score')"
   ]
  },
  {
   "cell_type": "markdown",
   "id": "2673537d",
   "metadata": {},
   "source": [
    "Features mais importantes: Outstanding_Debt, Interest_Rate, Credit_Mix e Changed_Credit_Limit parecem ser as mais relevantes para o modelo.\n",
    "\n",
    "Features menos importantes: Payment_of_Min_Amount, Occupation, Num_of_Loan são as de menor impacto."
   ]
  },
  {
   "cell_type": "code",
   "execution_count": 23,
   "id": "fdc9c32f",
   "metadata": {},
   "outputs": [
    {
     "data": {
      "text/plain": [
       "Age                           int32\n",
       "Occupation                   object\n",
       "Annual_Income               float64\n",
       "Monthly_Inhand_Salary       float64\n",
       "Num_Bank_Accounts             int64\n",
       "Num_Credit_Card               int64\n",
       "Interest_Rate                 int64\n",
       "Num_of_Loan                   int32\n",
       "Type_of_Loan                 object\n",
       "Delay_from_due_date           int64\n",
       "Num_of_Delayed_Payment      float64\n",
       "Changed_Credit_Limit        float64\n",
       "Num_Credit_Inquiries        float64\n",
       "Credit_Mix                   object\n",
       "Outstanding_Debt            float64\n",
       "Credit_Utilization_Ratio    float64\n",
       "Credit_History_Age           object\n",
       "Payment_of_Min_Amount        object\n",
       "Total_EMI_per_month         float64\n",
       "Amount_invested_monthly     float64\n",
       "Payment_Behaviour            object\n",
       "Monthly_Balance             float64\n",
       "Credit_Score                 object\n",
       "dtype: object"
      ]
     },
     "execution_count": 23,
     "metadata": {},
     "output_type": "execute_result"
    }
   ],
   "source": [
    "df_treinofiltrado.dtypes"
   ]
  },
  {
   "cell_type": "code",
   "execution_count": 24,
   "id": "a2ea46ab",
   "metadata": {},
   "outputs": [
    {
     "data": {
      "text/plain": [
       "Num_of_Loan                  16.071839\n",
       "Num_of_Delayed_Payment       14.334698\n",
       "Annual_Income                12.498544\n",
       "Num_Bank_Accounts            11.194078\n",
       "Num_Credit_Inquiries          9.769826\n",
       "Interest_Rate                 8.994838\n",
       "Num_Credit_Card               8.464140\n",
       "Total_EMI_per_month           7.122703\n",
       "Amount_invested_monthly       4.329249\n",
       "Outstanding_Debt              1.207296\n",
       "Monthly_Inhand_Salary         1.126872\n",
       "Delay_from_due_date           0.966090\n",
       "Changed_Credit_Limit          0.639910\n",
       "Age                           0.162602\n",
       "Credit_Utilization_Ratio      0.027877\n",
       "Monthly_Balance            -103.290314\n",
       "dtype: float64"
      ]
     },
     "execution_count": 24,
     "metadata": {},
     "output_type": "execute_result"
    }
   ],
   "source": [
    "#Medição da Simetria\n",
    "skew_report = df_treinofiltrado[numcols].skew().sort_values(ascending=False)\n",
    "skew_report"
   ]
  },
  {
   "cell_type": "markdown",
   "id": "badb0516",
   "metadata": {},
   "source": [
    "Skew > 1 ou < -1: distribuição muito assimétrica ⇒ usar mediana\n",
    "\n",
    "Skew entre -0.5 e 0.5: mais simétrica ⇒ pode usar média"
   ]
  },
  {
   "cell_type": "markdown",
   "id": "19a53776",
   "metadata": {},
   "source": [
    "A medição da simetria (skew()) te dá uma ideia de quais variáveis estão com distribuições assimétricas (não normais). Isso é importante porque algumas técnicas de modelagem (principalmente, modelos lineares) podem se beneficiar de transformações em features com alto skewness.\n",
    "\n",
    "Resultados:\n",
    "Altamente assimétricas:\n",
    "\n",
    "Num_of_Loan (skew = 16.07)\n",
    "\n",
    "Num_of_Delayed_Payment (skew = 14.33)\n",
    "\n",
    "Annual_Income (skew = 12.50)\n",
    "\n",
    "Num_Bank_Accounts (skew = 11.19)\n",
    "\n",
    "Levemente assimétricas:\n",
    "\n",
    "Monthly_Balance tem um valor extremamente negativo (-103.29) de skew, o que sugere que sua distribuição está completamente invertida ou cheia de valores atípicos. Vale investigar mais a fundo.\n",
    "\n",
    "Distribuições mais balanceadas:\n",
    "\n",
    "Algumas features, como Credit_History_Age, Credit_Utilization_Ratio, e Age, apresentam skew mais próximo de 0, o que significa que já estão mais balanceadas e não precisam de transformações urgentes."
   ]
  },
  {
   "cell_type": "code",
   "execution_count": 25,
   "id": "66ca2def",
   "metadata": {},
   "outputs": [],
   "source": [
    "#Substituindo os valores ausentes de variáveis categóricas como Credit_Mix, Type_of_Loan, Occupation e Payment_Behaviour com a moda\n",
    "df_treinofiltrado.loc[:, 'Credit_Mix'] = df_treinofiltrado['Credit_Mix'].fillna(df_treinofiltrado['Credit_Mix'].mode()[0])\n",
    "df_treinofiltrado.loc[:, 'Type_of_Loan'] = df_treinofiltrado['Type_of_Loan'].fillna(df_treinofiltrado['Type_of_Loan'].mode()[0])\n",
    "df_treinofiltrado.loc[:, 'Occupation'] = df_treinofiltrado['Occupation'].fillna(df_treinofiltrado['Occupation'].mode()[0])\n",
    "df_treinofiltrado.loc[:, 'Payment_Behaviour'] = df_treinofiltrado['Payment_Behaviour'].fillna(df_treinofiltrado['Payment_Behaviour'].mode()[0])\n",
    "\n",
    "#Fazendo o mesmo para teste\n",
    "\n",
    "df_testefiltrado.loc[:, 'Credit_Mix'] = df_testefiltrado['Credit_Mix'].fillna(df_testefiltrado['Credit_Mix'].mode()[0])\n",
    "df_testefiltrado.loc[:, 'Type_of_Loan'] = df_testefiltrado['Type_of_Loan'].fillna(df_testefiltrado['Type_of_Loan'].mode()[0])\n",
    "df_testefiltrado.loc[:, 'Occupation'] = df_testefiltrado['Occupation'].fillna(df_testefiltrado['Occupation'].mode()[0])\n",
    "df_testefiltrado.loc[:, 'Payment_Behaviour'] = df_testefiltrado['Payment_Behaviour'].fillna(df_testefiltrado['Payment_Behaviour'].mode()[0])"
   ]
  },
  {
   "cell_type": "code",
   "execution_count": 26,
   "id": "1b3b79ad",
   "metadata": {},
   "outputs": [
    {
     "name": "stderr",
     "output_type": "stream",
     "text": [
      "C:\\Users\\jrodr\\AppData\\Local\\Temp\\ipykernel_42132\\1498152891.py:6: SettingWithCopyWarning: \n",
      "A value is trying to be set on a copy of a slice from a DataFrame.\n",
      "Try using .loc[row_indexer,col_indexer] = value instead\n",
      "\n",
      "See the caveats in the documentation: https://pandas.pydata.org/pandas-docs/stable/user_guide/indexing.html#returning-a-view-versus-a-copy\n",
      "  df_treinofiltrado['Credit_History_Age'] = df_treinofiltrado['Credit_History_Age'].astype('int64')\n",
      "C:\\Users\\jrodr\\AppData\\Local\\Temp\\ipykernel_42132\\1498152891.py:16: SettingWithCopyWarning: \n",
      "A value is trying to be set on a copy of a slice from a DataFrame.\n",
      "Try using .loc[row_indexer,col_indexer] = value instead\n",
      "\n",
      "See the caveats in the documentation: https://pandas.pydata.org/pandas-docs/stable/user_guide/indexing.html#returning-a-view-versus-a-copy\n",
      "  df_testefiltrado['Credit_History_Age'] = df_testefiltrado['Credit_History_Age'].astype('int64')\n"
     ]
    }
   ],
   "source": [
    "#Variáveis como Credit_History_Age, possuem skew próximo de 0, portanto, vamos substituir os valores ausentes pela média\n",
    "media = df_treinofiltrado['Credit_History_Age'].mean()\n",
    "media_arredondada = int(np.ceil(media))\n",
    "\n",
    "df_treinofiltrado.loc[:, 'Credit_History_Age'] = df_treinofiltrado['Credit_History_Age'].fillna(media_arredondada)\n",
    "df_treinofiltrado['Credit_History_Age'] = df_treinofiltrado['Credit_History_Age'].astype('int64')\n",
    "\n",
    "\n",
    "\n",
    "#Fazendo o mesmo para a base de teste\n",
    "\n",
    "media = df_testefiltrado['Credit_History_Age'].mean()\n",
    "media_arredondada = int(np.ceil(media))\n",
    "\n",
    "df_testefiltrado.loc[:, 'Credit_History_Age'] = df_testefiltrado['Credit_History_Age'].fillna(media_arredondada)\n",
    "df_testefiltrado['Credit_History_Age'] = df_testefiltrado['Credit_History_Age'].astype('int64')"
   ]
  },
  {
   "cell_type": "code",
   "execution_count": 27,
   "id": "b879a336",
   "metadata": {},
   "outputs": [
    {
     "data": {
      "text/html": [
       "<div>\n",
       "<style scoped>\n",
       "    .dataframe tbody tr th:only-of-type {\n",
       "        vertical-align: middle;\n",
       "    }\n",
       "\n",
       "    .dataframe tbody tr th {\n",
       "        vertical-align: top;\n",
       "    }\n",
       "\n",
       "    .dataframe thead th {\n",
       "        text-align: right;\n",
       "    }\n",
       "</style>\n",
       "<table border=\"1\" class=\"dataframe\">\n",
       "  <thead>\n",
       "    <tr style=\"text-align: right;\">\n",
       "      <th></th>\n",
       "      <th>missing_count</th>\n",
       "      <th>missing_percent</th>\n",
       "    </tr>\n",
       "  </thead>\n",
       "  <tbody>\n",
       "    <tr>\n",
       "      <th>Monthly_Inhand_Salary</th>\n",
       "      <td>14597</td>\n",
       "      <td>15.013937</td>\n",
       "    </tr>\n",
       "    <tr>\n",
       "      <th>Num_of_Delayed_Payment</th>\n",
       "      <td>6824</td>\n",
       "      <td>7.018915</td>\n",
       "    </tr>\n",
       "    <tr>\n",
       "      <th>Amount_invested_monthly</th>\n",
       "      <td>4344</td>\n",
       "      <td>4.468079</td>\n",
       "    </tr>\n",
       "    <tr>\n",
       "      <th>Changed_Credit_Limit</th>\n",
       "      <td>2037</td>\n",
       "      <td>2.095183</td>\n",
       "    </tr>\n",
       "    <tr>\n",
       "      <th>Num_Credit_Inquiries</th>\n",
       "      <td>1906</td>\n",
       "      <td>1.960441</td>\n",
       "    </tr>\n",
       "    <tr>\n",
       "      <th>Monthly_Balance</th>\n",
       "      <td>1179</td>\n",
       "      <td>1.212676</td>\n",
       "    </tr>\n",
       "  </tbody>\n",
       "</table>\n",
       "</div>"
      ],
      "text/plain": [
       "                         missing_count  missing_percent\n",
       "Monthly_Inhand_Salary            14597        15.013937\n",
       "Num_of_Delayed_Payment            6824         7.018915\n",
       "Amount_invested_monthly           4344         4.468079\n",
       "Changed_Credit_Limit              2037         2.095183\n",
       "Num_Credit_Inquiries              1906         1.960441\n",
       "Monthly_Balance                   1179         1.212676"
      ]
     },
     "execution_count": 27,
     "metadata": {},
     "output_type": "execute_result"
    }
   ],
   "source": [
    "#Relatório dados faltantes\n",
    "def missing_report(df):\n",
    "    missing = df.isnull().sum()\n",
    "    percent = (missing / len(df)) * 100\n",
    "    report = pd.DataFrame({'missing_count': missing, 'missing_percent': percent})\n",
    "    report = report[report['missing_count'] > 0].sort_values(by='missing_percent', ascending=False)\n",
    "    return report\n",
    "\n",
    "missing_report(df_treinofiltrado)"
   ]
  },
  {
   "cell_type": "markdown",
   "id": "44fc3e40",
   "metadata": {},
   "source": [
    "Usarei Mediana para Monthly_Inhand_Salary"
   ]
  },
  {
   "cell_type": "code",
   "execution_count": 28,
   "id": "c0b51bfe",
   "metadata": {},
   "outputs": [
    {
     "name": "stdout",
     "output_type": "stream",
     "text": [
      "       Credit_History_Age  Delay_from_due_date  Num_Credit_Inquiries\n",
      "count         6824.000000          6824.000000           6692.000000\n",
      "mean            17.912368            21.144930             31.561267\n",
      "std              7.940915            14.926463            211.136034\n",
      "min              0.000000            -5.000000              0.000000\n",
      "25%             12.000000            10.000000              3.000000\n",
      "50%             18.000000            18.000000              6.000000\n",
      "75%             24.000000            28.000000              9.000000\n",
      "max             33.000000            67.000000           2592.000000\n"
     ]
    }
   ],
   "source": [
    "# Verifica a média de outras variáveis quando o valor está ausente\n",
    "print(df_treinofiltrado[df_treinofiltrado['Num_of_Delayed_Payment'].isna()][['Credit_History_Age', 'Delay_from_due_date', 'Num_Credit_Inquiries']].describe())"
   ]
  },
  {
   "cell_type": "code",
   "execution_count": 29,
   "id": "643ffe85",
   "metadata": {},
   "outputs": [
    {
     "name": "stdout",
     "output_type": "stream",
     "text": [
      "                       Média (ausentes)  Média (presentes)\n",
      "Annual_Income              1.574370e+05       1.777505e+05\n",
      "Monthly_Inhand_Salary      4.228837e+03       4.193510e+03\n",
      "Monthly_Balance           -7.775445e+22      -2.906227e+22\n",
      "Outstanding_Debt           1.433319e+03       1.425971e+03\n",
      "Total_EMI_per_month        1.325309e+03       1.399887e+03\n"
     ]
    }
   ],
   "source": [
    "#Amout_invested_monthly\n",
    "# Criar dois grupos\n",
    "invest_missing = df_treinofiltrado[df_treinofiltrado['Amount_invested_monthly'].isna()]\n",
    "invest_present = df_treinofiltrado[df_treinofiltrado['Amount_invested_monthly'].notna()]\n",
    "\n",
    "# Comparar médias de variáveis relacionadas\n",
    "cols_financeiras = ['Annual_Income', 'Monthly_Inhand_Salary', 'Monthly_Balance', \n",
    "                    'Outstanding_Debt', 'Total_EMI_per_month']\n",
    "\n",
    "# Comparando as médias\n",
    "comparison = pd.DataFrame({\n",
    "    'Média (ausentes)': invest_missing[cols_financeiras].mean(),\n",
    "    'Média (presentes)': invest_present[cols_financeiras].mean()\n",
    "})\n",
    "\n",
    "print(comparison)"
   ]
  },
  {
   "cell_type": "markdown",
   "id": "35af0e71",
   "metadata": {},
   "source": [
    "Se os ausentes têm valores muito baixos de renda ou saldo → pode indicar que não têm capacidade de investir → 0 faria sentido.\n",
    "\n",
    "Se os ausentes têm valores parecidos com quem investe → mais provável que seja só dado faltante → use mediana.\n",
    "\n",
    "Não é apropriado preencher com 0, pois os ausentes não têm perfil financeiramente diferente dos que investem."
   ]
  },
  {
   "cell_type": "code",
   "execution_count": 30,
   "id": "0c975f35",
   "metadata": {},
   "outputs": [
    {
     "name": "stdout",
     "output_type": "stream",
     "text": [
      "                          Média (ausentes)  Média (presentes)\n",
      "Annual_Income                201194.617037      176321.775892\n",
      "Credit_Utilization_Ratio         32.461374          32.280984\n",
      "Outstanding_Debt               1411.169539        1426.622949\n",
      "Monthly_Inhand_Salary          4307.113934        4192.678018\n",
      "Num_of_Delayed_Payment           26.439664          30.940470\n"
     ]
    }
   ],
   "source": [
    "#Changed_Credit_Limit\n",
    "# Dividindo os grupos\n",
    "changed_missing = df_treinofiltrado[df_treinofiltrado['Changed_Credit_Limit'].isna()]\n",
    "changed_present = df_treinofiltrado[df_treinofiltrado['Changed_Credit_Limit'].notna()]\n",
    "\n",
    "# Variáveis para comparação\n",
    "cols = ['Annual_Income', 'Credit_Utilization_Ratio', 'Outstanding_Debt',\n",
    "        'Monthly_Inhand_Salary', 'Num_of_Delayed_Payment']\n",
    "\n",
    "# Comparando médias\n",
    "comparison = pd.DataFrame({\n",
    "    'Média (ausentes)': changed_missing[cols].mean(),\n",
    "    'Média (presentes)': changed_present[cols].mean()\n",
    "})\n",
    "\n",
    "print(comparison)"
   ]
  },
  {
   "cell_type": "markdown",
   "id": "880eb77e",
   "metadata": {},
   "source": [
    "Renda (Annual Income): Os clientes com valores ausentes têm renda mais alta. Isso pode sugerir que essas pessoas potencialmente têm mais crédito ou são clientes de maior perfil, o que poderia indicar que não houve necessidade de mudar o limite de crédito — ou seja, os dados ausentes não são representativos de problemas de crédito."
   ]
  },
  {
   "cell_type": "code",
   "execution_count": 31,
   "id": "bbdde7fb",
   "metadata": {},
   "outputs": [
    {
     "name": "stdout",
     "output_type": "stream",
     "text": [
      "                          Média (ausentes)  Média (presentes)\n",
      "Annual_Income                162474.845824      177130.217473\n",
      "Outstanding_Debt               1412.761868        1426.569869\n",
      "Credit_Utilization_Ratio         32.228208          32.285894\n",
      "Num_of_Delayed_Payment           32.465051          30.813157\n",
      "Monthly_Inhand_Salary          4259.716737        4193.765651\n"
     ]
    }
   ],
   "source": [
    "#Num_Credit_Inquiries\n",
    "# Grupos\n",
    "inq_missing = df_treinofiltrado[df_treinofiltrado['Num_Credit_Inquiries'].isna()]\n",
    "inq_present = df_treinofiltrado[df_treinofiltrado['Num_Credit_Inquiries'].notna()]\n",
    "\n",
    "# Variáveis relacionadas\n",
    "cols = ['Annual_Income', 'Outstanding_Debt', 'Credit_Utilization_Ratio',\n",
    "        'Num_of_Delayed_Payment', 'Monthly_Inhand_Salary']\n",
    "\n",
    "# Comparação de médias\n",
    "comparison = pd.DataFrame({\n",
    "    'Média (ausentes)': inq_missing[cols].mean(),\n",
    "    'Média (presentes)': inq_present[cols].mean()\n",
    "})\n",
    "\n",
    "print(comparison)"
   ]
  },
  {
   "cell_type": "markdown",
   "id": "21809f7f",
   "metadata": {},
   "source": [
    "Clientes com Num_Credit_Inquiries = NaN têm perfil quase idêntico aos demais.\n",
    "\n",
    "Não há indícios de que ausência signifique “nenhuma consulta”.\n",
    "\n",
    "Um número alto de consultas pode indicar desespero por crédito ou perfil de risco mais elevado\n",
    "\n",
    "Um número baixo pode indicar estabilidade ou pouco envolvimento com crédito"
   ]
  },
  {
   "cell_type": "markdown",
   "id": "2091e518",
   "metadata": {},
   "source": [
    "Um número alto de consultas pode indicar desespero por crédito ou perfil de risco mais elevado\n",
    "\n",
    "Um número baixo pode indicar estabilidade ou pouco envolvimento com crédito"
   ]
  },
  {
   "cell_type": "code",
   "execution_count": 32,
   "id": "1a98458c",
   "metadata": {},
   "outputs": [],
   "source": [
    "#Vamos tratar Monthly_Inhand_Salary, Num_of_Delayed_Payment, Amount_invested_monthly, Changed_Credit_Limit e Num_Credit_Inquiries\n",
    "df_treinofiltrado.loc[:, 'Monthly_Inhand_Salary'] = df_treinofiltrado['Monthly_Inhand_Salary'].fillna(df_treinofiltrado['Monthly_Inhand_Salary'].median())\n",
    "df_treinofiltrado.loc[:, 'Num_of_Delayed_Payment'] = df_treinofiltrado['Num_of_Delayed_Payment'].fillna(df_treinofiltrado['Num_of_Delayed_Payment'].median())\n",
    "df_treinofiltrado.loc[:, 'Amount_invested_monthly'] = df_treinofiltrado['Amount_invested_monthly'].fillna(df_treinofiltrado['Amount_invested_monthly'].median())\n",
    "df_treinofiltrado.loc[:, 'Changed_Credit_Limit'] = df_treinofiltrado['Changed_Credit_Limit'].fillna(df_treinofiltrado['Changed_Credit_Limit'].median())\n",
    "df_treinofiltrado.loc[:, 'Num_Credit_Inquiries'] = df_treinofiltrado['Num_Credit_Inquiries'].fillna(df_treinofiltrado['Num_Credit_Inquiries'].median())\n",
    "#Fazendo o mesmo para teste\n",
    "df_testefiltrado.loc[:, 'Monthly_Inhand_Salary'] = df_testefiltrado['Monthly_Inhand_Salary'].fillna(df_testefiltrado['Monthly_Inhand_Salary'].median())\n",
    "df_testefiltrado.loc[:, 'Num_of_Delayed_Payment'] = df_testefiltrado['Num_of_Delayed_Payment'].fillna(df_testefiltrado['Num_of_Delayed_Payment'].median())\n",
    "df_testefiltrado.loc[:, 'Amount_invested_monthly'] = df_testefiltrado['Amount_invested_monthly'].fillna(df_testefiltrado['Amount_invested_monthly'].median())\n",
    "df_testefiltrado.loc[:, 'Changed_Credit_Limit'] = df_testefiltrado['Changed_Credit_Limit'].fillna(df_testefiltrado['Changed_Credit_Limit'].median())\n",
    "df_testefiltrado.loc[:, 'Num_Credit_Inquiries'] = df_testefiltrado['Num_Credit_Inquiries'].fillna(df_testefiltrado['Num_Credit_Inquiries'].median())"
   ]
  },
  {
   "cell_type": "markdown",
   "id": "23db23a4",
   "metadata": {},
   "source": [
    "A explicação porquê utilizei mediana, está abaixo para cada coluna. Mas em geral, levei em consideração a quantidade de valores ausentes, sua importância para o modelo, sua simetria e o quanto impacta em outras variáveis.\n",
    "\n",
    "Para cada feature foi criado um relatório entre os valores ausentes e não ausentes."
   ]
  },
  {
   "cell_type": "code",
   "execution_count": 33,
   "id": "fc3888c0",
   "metadata": {},
   "outputs": [
    {
     "name": "stdout",
     "output_type": "stream",
     "text": [
      "count    9.604400e+04\n",
      "mean    -3.123568e+22\n",
      "std      3.226612e+24\n",
      "min     -3.333333e+26\n",
      "25%      2.700825e+02\n",
      "50%      3.366474e+02\n",
      "75%      4.699451e+02\n",
      "max      1.602041e+03\n",
      "Name: Monthly_Balance, dtype: float64\n",
      "0.01      67.829579\n",
      "0.25     270.082506\n",
      "0.50     336.647364\n",
      "0.75     469.945127\n",
      "0.99    1138.219013\n",
      "Name: Monthly_Balance, dtype: float64\n"
     ]
    }
   ],
   "source": [
    "print(df_treinofiltrado['Monthly_Balance'].describe())\n",
    "print(df_treinofiltrado['Monthly_Balance'].quantile([0.01, 0.25, 0.5, 0.75, 0.99]))"
   ]
  },
  {
   "cell_type": "markdown",
   "id": "f1938abd",
   "metadata": {},
   "source": [
    "Distribuição real (quantis 1%–99%): entre 67.82 e 1138.21 USD → esse é o intervalo normal esperado\n",
    "\n",
    "Mediana: 336.65 USD\n",
    "\n",
    "Mínimo: −3.33e+26 → valor completamente fora da realidade\n",
    "\n",
    "Média: −3.12e+22 → completamente distorcida\n",
    "\n",
    "Std: extremamente alta"
   ]
  },
  {
   "cell_type": "markdown",
   "id": "63eef2de",
   "metadata": {},
   "source": [
    "A coluna 'Monthly_Balance' necessita de uma investigação particular, dado a sua simetria de -103."
   ]
  },
  {
   "cell_type": "code",
   "execution_count": 34,
   "id": "ab75cae1",
   "metadata": {},
   "outputs": [],
   "source": [
    "#Após os valores acima, notamos que estamos lidando com valores corrompidos\n",
    "df_treinofiltrado = df_treinofiltrado[(df_treinofiltrado['Monthly_Balance'] > 0) & (df_treinofiltrado['Monthly_Balance'] < 5000)]\n",
    "#5000 é uma margem segura com base no Q3 + 3*IQR, considerando o Q3 = 470\n",
    "df_testefiltrado = df_testefiltrado[(df_testefiltrado['Monthly_Balance'] > 0) & (df_testefiltrado['Monthly_Balance'] < 5000)]"
   ]
  },
  {
   "cell_type": "code",
   "execution_count": 35,
   "id": "408ff7ce",
   "metadata": {},
   "outputs": [],
   "source": [
    "#Substituindo pela mediana na nossa última Coluna com valores vazios\n",
    "df_treinofiltrado.loc[:, 'Monthly_Balance'] = df_treinofiltrado['Monthly_Balance'].fillna(df_treinofiltrado['Monthly_Balance'].median())\n",
    "df_testefiltrado.loc[:, 'Monthly_Balance'] = df_testefiltrado['Monthly_Balance'].fillna(df_testefiltrado['Monthly_Balance'].median())"
   ]
  },
  {
   "cell_type": "code",
   "execution_count": 36,
   "id": "42e5f9ee",
   "metadata": {},
   "outputs": [
    {
     "data": {
      "text/html": [
       "<div>\n",
       "<style scoped>\n",
       "    .dataframe tbody tr th:only-of-type {\n",
       "        vertical-align: middle;\n",
       "    }\n",
       "\n",
       "    .dataframe tbody tr th {\n",
       "        vertical-align: top;\n",
       "    }\n",
       "\n",
       "    .dataframe thead th {\n",
       "        text-align: right;\n",
       "    }\n",
       "</style>\n",
       "<table border=\"1\" class=\"dataframe\">\n",
       "  <thead>\n",
       "    <tr style=\"text-align: right;\">\n",
       "      <th></th>\n",
       "      <th>missing_count</th>\n",
       "      <th>missing_percent</th>\n",
       "    </tr>\n",
       "  </thead>\n",
       "  <tbody>\n",
       "  </tbody>\n",
       "</table>\n",
       "</div>"
      ],
      "text/plain": [
       "Empty DataFrame\n",
       "Columns: [missing_count, missing_percent]\n",
       "Index: []"
      ]
     },
     "execution_count": 36,
     "metadata": {},
     "output_type": "execute_result"
    }
   ],
   "source": [
    "#Relatório dados faltantes final\n",
    "def missing_report(df):\n",
    "    missing = df.isnull().sum()\n",
    "    percent = (missing / len(df)) * 100\n",
    "    report = pd.DataFrame({'missing_count': missing, 'missing_percent': percent})\n",
    "    report = report[report['missing_count'] > 0].sort_values(by='missing_percent', ascending=False)\n",
    "    return report\n",
    "\n",
    "missing_report(df_treinofiltrado)"
   ]
  },
  {
   "cell_type": "markdown",
   "id": "b9e7dadd",
   "metadata": {},
   "source": [
    "### Vamos tratar os dados Outliers"
   ]
  },
  {
   "cell_type": "code",
   "execution_count": 37,
   "id": "9de50b44",
   "metadata": {},
   "outputs": [],
   "source": [
    "#Vamos selecionar as colunas, onde valores outliers são prováveis e não são descartados\n",
    "\n",
    "iqr_cols = [\n",
    "    'Annual_Income', 'Monthly_Inhand_Salary', 'Delay_from_due_date',\n",
    "    'Num_of_Delayed_Payment', 'Changed_Credit_Limit', 'Num_Credit_Inquiries',\n",
    "    'Outstanding_Debt', 'Total_EMI_per_month', 'Amount_invested_monthly',\n",
    "    'Monthly_Balance'\n",
    "]"
   ]
  },
  {
   "cell_type": "code",
   "execution_count": 38,
   "id": "e6fd8121",
   "metadata": {},
   "outputs": [],
   "source": [
    "#Criando a mask\n",
    "outliers_mask = pd.DataFrame(False, index=df_treinofiltrado.index, columns=iqr_cols)"
   ]
  },
  {
   "cell_type": "code",
   "execution_count": 39,
   "id": "925681ed",
   "metadata": {},
   "outputs": [],
   "source": [
    "for coluna in iqr_cols:\n",
    "    Q1 = df_treinofiltrado[coluna].quantile(0.25)\n",
    "    Q3 = df_treinofiltrado[coluna].quantile(0.75)\n",
    "    IQR = Q3 - Q1\n",
    "    limite_inferior = Q1 - 1.5 * IQR\n",
    "    limite_superior = Q3 + 1.5 * IQR\n",
    "    outliers_mask[coluna] = (df_treinofiltrado[coluna] < limite_inferior) | (df_treinofiltrado[coluna] > limite_superior)"
   ]
  },
  {
   "cell_type": "code",
   "execution_count": 40,
   "id": "81ffd049",
   "metadata": {},
   "outputs": [
    {
     "name": "stdout",
     "output_type": "stream",
     "text": [
      "31858 linhas com outliers encontradas.\n",
      "    Age Occupation  Annual_Income  Monthly_Inhand_Salary  Num_Bank_Accounts  \\\n",
      "16   34     Lawyer      143162.64            12187.22000                  1   \n",
      "17   34   Engineer      143162.64            12187.22000                  1   \n",
      "18   34     Lawyer      143162.64             3096.06625                  1   \n",
      "19   34   Engineer      143162.64            12187.22000                  1   \n",
      "20   34     Lawyer      143162.64            12187.22000                  1   \n",
      "\n",
      "    Num_Credit_Card  Interest_Rate  Num_of_Loan  \\\n",
      "16                5              8            3   \n",
      "17                5              8            3   \n",
      "18                5              8            3   \n",
      "19                5              8            3   \n",
      "20                5              8            3   \n",
      "\n",
      "                               Type_of_Loan  Delay_from_due_date  ...  \\\n",
      "16  Auto Loan, Auto Loan, and Not Specified                    5  ...   \n",
      "17  Auto Loan, Auto Loan, and Not Specified                   13  ...   \n",
      "18  Auto Loan, Auto Loan, and Not Specified                    8  ...   \n",
      "19  Auto Loan, Auto Loan, and Not Specified                    8  ...   \n",
      "20  Auto Loan, Auto Loan, and Not Specified                   10  ...   \n",
      "\n",
      "    Credit_Mix  Outstanding_Debt  Credit_Utilization_Ratio Credit_History_Age  \\\n",
      "16        Good           1303.01                 28.616735                 17   \n",
      "17        Good           1303.01                 41.702573                 17   \n",
      "18        Good           1303.01                 26.519815                 17   \n",
      "19    Standard           1303.01                 39.501648                 18   \n",
      "20        Good           1303.01                 31.376150                 18   \n",
      "\n",
      "    Payment_of_Min_Amount  Total_EMI_per_month  Amount_invested_monthly  \\\n",
      "16                     No           246.992319               168.413703   \n",
      "17                     No           246.992319               232.860384   \n",
      "18                     No           246.992319             10000.000000   \n",
      "19                     No           246.992319               825.216270   \n",
      "20                     No           246.992319               430.947528   \n",
      "\n",
      "                  Payment_Behaviour  Monthly_Balance  Credit_Score  \n",
      "16   Low_spent_Small_value_payments      1043.315978          Good  \n",
      "17  High_spent_Small_value_payments       998.869297          Good  \n",
      "18  High_spent_Small_value_payments       715.741367          Good  \n",
      "19  Low_spent_Medium_value_payments       426.513411          Good  \n",
      "20   Low_spent_Large_value_payments       810.782153          Good  \n",
      "\n",
      "[5 rows x 23 columns]\n"
     ]
    }
   ],
   "source": [
    "# Linhas que têm pelo menos um outlier\n",
    "linhas_com_outlier = outliers_mask.any(axis=1)\n",
    "df_outliers = df_treinofiltrado[linhas_com_outlier]\n",
    "\n",
    "print(f\"{df_outliers.shape[0]} linhas com outliers encontradas.\")\n",
    "print(df_outliers.head())"
   ]
  },
  {
   "cell_type": "code",
   "execution_count": 41,
   "id": "01d7d8ac",
   "metadata": {},
   "outputs": [
    {
     "name": "stdout",
     "output_type": "stream",
     "text": [
      "17570 linhas com outliers na base de teste.\n"
     ]
    }
   ],
   "source": [
    "#Fazendo a mesma análise para a base de teste\n",
    "\n",
    "# Supondo que você tenha um df_teste carregado\n",
    "outliers_mask_teste = pd.DataFrame(False, index=df_teste.index, columns=iqr_cols)\n",
    "\n",
    "# Recalcular os mesmos limites usados na base de treino\n",
    "for coluna in iqr_cols:\n",
    "    Q1 = df_treinofiltrado[coluna].quantile(0.25)\n",
    "    Q3 = df_treinofiltrado[coluna].quantile(0.75)\n",
    "    IQR = Q3 - Q1\n",
    "    limite_inferior = Q1 - 1.5 * IQR\n",
    "    limite_superior = Q3 + 1.5 * IQR\n",
    "\n",
    "    outliers_mask_teste[coluna] = (df_teste[coluna] < limite_inferior) | (df_teste[coluna] > limite_superior)\n",
    "\n",
    "# Linhas com pelo menos um outlier\n",
    "linhas_com_outlier_teste = outliers_mask_teste.any(axis=1)\n",
    "df_outliers_teste = df_teste[linhas_com_outlier_teste]\n",
    "\n",
    "print(f\"{df_outliers_teste.shape[0]} linhas com outliers na base de teste.\")\n"
   ]
  },
  {
   "cell_type": "markdown",
   "id": "5862eeff",
   "metadata": {},
   "source": [
    "Imputar os outliers (ex: mediana ou limites IQR)\n",
    " - Vantagens: Preserva o tamanho do dataset, reduz o impacto de extremos ; Melhora estabilidade da Regressão Logística, que é sensível a valores extremos.\n",
    "\n",
    " - Desvantagens: Pode distorcer variabilidade real dos dados em modelos baseados em árvore.\n",
    " \n"
   ]
  },
  {
   "cell_type": "code",
   "execution_count": 42,
   "id": "1b27b272",
   "metadata": {},
   "outputs": [
    {
     "name": "stdout",
     "output_type": "stream",
     "text": [
      "Outliers na base Treino foram tratados por Winsorizing (capados nos limites IQR).\n",
      "Outliers na base Teste foram tratados com os mesmos limites do treino.\n"
     ]
    }
   ],
   "source": [
    "# Base de treino: tudo ok\n",
    "df_treinofiltrado_outliers = df_treinofiltrado.copy()\n",
    "iqr_limits = {}\n",
    "\n",
    "for coluna in iqr_cols:\n",
    "    Q1 = df_treinofiltrado[coluna].quantile(0.25)\n",
    "    Q3 = df_treinofiltrado[coluna].quantile(0.75)\n",
    "    IQR = Q3 - Q1\n",
    "    limite_inferior = Q1 - 1.5 * IQR\n",
    "    limite_superior = Q3 + 1.5 * IQR\n",
    "\n",
    "    iqr_limits[coluna] = (limite_inferior, limite_superior)\n",
    "    df_treinofiltrado_outliers[coluna] = df_treinofiltrado[coluna].clip(lower=limite_inferior, upper=limite_superior)\n",
    "\n",
    "print(\"Outliers na base Treino foram tratados por Winsorizing (capados nos limites IQR).\")\n",
    "\n",
    "# Base de teste: usa os mesmos limites calculados no treino\n",
    "df_testefiltrado_outliers = df_testefiltrado.copy()\n",
    "\n",
    "for coluna in iqr_cols:\n",
    "    limite_inferior, limite_superior = iqr_limits[coluna]\n",
    "    df_testefiltrado_outliers[coluna] = df_testefiltrado[coluna].clip(lower=limite_inferior, upper=limite_superior)\n",
    "\n",
    "print(\"Outliers na base Teste foram tratados com os mesmos limites do treino.\")"
   ]
  },
  {
   "cell_type": "markdown",
   "id": "b8f7af28",
   "metadata": {},
   "source": [
    "### Visualizando os dados"
   ]
  },
  {
   "cell_type": "code",
   "execution_count": 43,
   "id": "eaacad45",
   "metadata": {},
   "outputs": [],
   "source": [
    "#Estilo\n",
    "sns.set_theme(style=\"darkgrid\")\n",
    "#Tamanho padrão dos gráficos\n",
    "plt.rcParams['figure.figsize'] = (10, 6)\n",
    "\n",
    "# Define cores padrão, fontes e margens\n",
    "plt.rcParams['axes.facecolor'] = '#f0f0f0'  # fundo cinza claro\n",
    "plt.rcParams['figure.facecolor'] = '#e5e5e5'  # fundo da figura\n",
    "plt.rcParams['axes.edgecolor'] = '#333333'  # borda dos eixos\n",
    "plt.rcParams['axes.labelcolor'] = '#333333'\n",
    "plt.rcParams['xtick.color'] = '#333333'\n",
    "plt.rcParams['ytick.color'] = '#333333'\n",
    "plt.rcParams['text.color'] = '#333333'\n",
    "plt.rcParams['font.size'] = 12"
   ]
  },
  {
   "cell_type": "code",
   "execution_count": 44,
   "id": "959f9129",
   "metadata": {},
   "outputs": [],
   "source": [
    "#3º Matriz de Correlação\n",
    "\n",
    "#6º Pairplot de 'Annual_Income', 'Outstanding_Debt', 'Credit_Utilization_Ratio', ''Credit_Score'' (todas juntos)\n",
    "\n",
    "#7º ou 3º Fazer gráficos de boxplots entre Credit_Score e Monthly_Inhand_Salary"
   ]
  },
  {
   "cell_type": "code",
   "execution_count": 45,
   "id": "42214bce",
   "metadata": {},
   "outputs": [
    {
     "data": {
      "image/png": "[encoded data removed]",
      "text/plain": [
       "<Figure size 1000x600 with 2 Axes>"
      ]
     },
     "metadata": {},
     "output_type": "display_data"
    }
   ],
   "source": [
    "#Olhando para a distribuição de Renda Anual\n",
    "fig, axes = plt.subplots(1, 2)\n",
    "\n",
    "sns.boxplot(data=df_treinofiltrado_outliers, x='Annual_Income', ax=axes[0], )\n",
    "axes[0].set_title('Renda Anual da Pessoa')\n",
    "sns.histplot(data=df_treinofiltrado_outliers, x='Annual_Income', ax=axes[1])\n",
    "axes[1].set_title('Distribuição Renda Anual')\n",
    "plt.tight_layout() #Evita que títulos se sobreponham\n",
    "plt.show()"
   ]
  },
  {
   "cell_type": "code",
   "execution_count": 46,
   "id": "7de58d8d",
   "metadata": {},
   "outputs": [
    {
     "data": {
      "image/png": "[encoded data removed]",
      "text/plain": [
       "<Figure size 1000x600 with 1 Axes>"
      ]
     },
     "metadata": {},
     "output_type": "display_data"
    }
   ],
   "source": [
    "#Graficamente um olhar sobre Renda Anual por Pontuação de Crédito\n",
    "sns.barplot(data=df_treinofiltrado_outliers, x='Credit_Score', y='Annual_Income');\n",
    "plt.title('Renda Anual vs Pontuação de Crédito');"
   ]
  },
  {
   "cell_type": "markdown",
   "id": "58e7d8b5",
   "metadata": {},
   "source": [
    "Como era de se esperar, pessoas com maiores rendas anuais, tem também melhores créditos."
   ]
  },
  {
   "cell_type": "code",
   "execution_count": 47,
   "id": "7e251be2",
   "metadata": {},
   "outputs": [
    {
     "data": {
      "image/png": "[encoded data removed]",
      "text/plain": [
       "<Figure size 1000x600 with 1 Axes>"
      ]
     },
     "metadata": {},
     "output_type": "display_data"
    }
   ],
   "source": [
    "sns.countplot(data=df_treinofiltrado_outliers, x='Credit_Score');\n",
    "plt.title('Quantidade de clientes por Pontuação de Crédito');"
   ]
  },
  {
   "cell_type": "code",
   "execution_count": 48,
   "id": "46c70a6b",
   "metadata": {},
   "outputs": [
    {
     "data": {
      "image/png": "[encoded data removed]",
      "text/plain": [
       "<Figure size 1000x600 with 3 Axes>"
      ]
     },
     "metadata": {},
     "output_type": "display_data"
    }
   ],
   "source": [
    "fig, axes = plt.subplots(1, 3)\n",
    "\n",
    "sns.countplot(data=df_treinofiltrado_outliers, x='Occupation', ax=axes[0], )\n",
    "axes[0].set_title('Ocupação do Cliente')\n",
    "axes[0].set_xticklabels(axes[0].get_xticklabels(), rotation=75, ha='right')\n",
    "sns.countplot(data=df_treinofiltrado_outliers, x='Credit_Mix', ax=axes[1])\n",
    "axes[1].set_title('Classificação do Mix de crédito do Clientes')\n",
    "axes[1].set_xticklabels(axes[1].get_xticklabels(), rotation=75, ha='right')\n",
    "sns.countplot(data=df_treinofiltrado_outliers, x='Payment_Behaviour', ax=axes[2], )\n",
    "axes[2].set_title('Comportamento de Pagamento')\n",
    "axes[2].set_xticklabels(axes[2].get_xticklabels(), rotation=75, ha='right')\n",
    "plt.tight_layout()\n",
    "plt.show()"
   ]
  },
  {
   "cell_type": "code",
   "execution_count": 49,
   "id": "f5b8d536",
   "metadata": {},
   "outputs": [
    {
     "name": "stdout",
     "output_type": "stream",
     "text": [
      "<class 'pandas.core.frame.DataFrame'>\n",
      "Index: 96035 entries, 0 to 99999\n",
      "Data columns (total 23 columns):\n",
      " #   Column                    Non-Null Count  Dtype  \n",
      "---  ------                    --------------  -----  \n",
      " 0   Age                       96035 non-null  int32  \n",
      " 1   Occupation                96035 non-null  object \n",
      " 2   Annual_Income             96035 non-null  float64\n",
      " 3   Monthly_Inhand_Salary     96035 non-null  float64\n",
      " 4   Num_Bank_Accounts         96035 non-null  int64  \n",
      " 5   Num_Credit_Card           96035 non-null  int64  \n",
      " 6   Interest_Rate             96035 non-null  int64  \n",
      " 7   Num_of_Loan               96035 non-null  int32  \n",
      " 8   Type_of_Loan              96035 non-null  object \n",
      " 9   Delay_from_due_date       96035 non-null  int64  \n",
      " 10  Num_of_Delayed_Payment    96035 non-null  float64\n",
      " 11  Changed_Credit_Limit      96035 non-null  float64\n",
      " 12  Num_Credit_Inquiries      96035 non-null  float64\n",
      " 13  Credit_Mix                96035 non-null  object \n",
      " 14  Outstanding_Debt          96035 non-null  float64\n",
      " 15  Credit_Utilization_Ratio  96035 non-null  float64\n",
      " 16  Credit_History_Age        96035 non-null  int64  \n",
      " 17  Payment_of_Min_Amount     96035 non-null  object \n",
      " 18  Total_EMI_per_month       96035 non-null  float64\n",
      " 19  Amount_invested_monthly   96035 non-null  float64\n",
      " 20  Payment_Behaviour         96035 non-null  object \n",
      " 21  Monthly_Balance           96035 non-null  float64\n",
      " 22  Credit_Score              96035 non-null  object \n",
      "dtypes: float64(10), int32(2), int64(5), object(6)\n",
      "memory usage: 16.9+ MB\n"
     ]
    }
   ],
   "source": [
    "df_treinofiltrado_outliers.info()"
   ]
  },
  {
   "cell_type": "code",
   "execution_count": 50,
   "id": "654bd5cb",
   "metadata": {},
   "outputs": [
    {
     "data": {
      "text/plain": [
       "Text(0.5, 1.0, 'Relação entre Pontuação de Crédito e Salário Mensal do Cliente')"
      ]
     },
     "execution_count": 50,
     "metadata": {},
     "output_type": "execute_result"
    },
    {
     "data": {
      "image/png": "[encoded data removed]",
      "text/plain": [
       "<Figure size 1000x600 with 1 Axes>"
      ]
     },
     "metadata": {},
     "output_type": "display_data"
    }
   ],
   "source": [
    "sns.boxplot(data=df_treinofiltrado_outliers, x=\"Credit_Score\", y=\"Monthly_Inhand_Salary\")\n",
    "plt.title('Relação entre Pontuação de Crédito e Salário Mensal do Cliente')"
   ]
  },
  {
   "cell_type": "markdown",
   "id": "15227863",
   "metadata": {},
   "source": [
    "### Tratando as variáveis Categóricas"
   ]
  },
  {
   "cell_type": "code",
   "execution_count": 51,
   "id": "22fae0c7",
   "metadata": {},
   "outputs": [
    {
     "data": {
      "text/plain": [
       "array(['No', 'NM', 'Yes'], dtype=object)"
      ]
     },
     "execution_count": 51,
     "metadata": {},
     "output_type": "execute_result"
    }
   ],
   "source": [
    "df_treinofiltrado_outliers.Payment_of_Min_Amount.unique()"
   ]
  },
  {
   "cell_type": "code",
   "execution_count": 52,
   "id": "a3ac1b0d",
   "metadata": {},
   "outputs": [],
   "source": [
    "#Tratando a coluna acima.\n",
    "df_treinofiltrado_outliers.Payment_of_Min_Amount = df_treinofiltrado_outliers.Payment_of_Min_Amount.replace({'NM': 'No'})"
   ]
  },
  {
   "cell_type": "markdown",
   "id": "3f1cc444",
   "metadata": {},
   "source": [
    "Teremos um tratamento específico para cada coluna."
   ]
  },
  {
   "cell_type": "code",
   "execution_count": 53,
   "id": "ef5bbf0e",
   "metadata": {},
   "outputs": [
    {
     "name": "stdout",
     "output_type": "stream",
     "text": [
      "15\n",
      "6260\n",
      "3\n",
      "2\n",
      "6\n"
     ]
    }
   ],
   "source": [
    "print(len(df_treinofiltrado_outliers.Occupation.unique()))\n",
    "print(len(df_treinofiltrado_outliers.Type_of_Loan.unique()))\n",
    "print(len(df_treinofiltrado_outliers.Credit_Mix.unique()))\n",
    "print(len(df_treinofiltrado_outliers.Payment_of_Min_Amount.unique()))\n",
    "print(len(df_treinofiltrado_outliers.Payment_Behaviour.unique()))"
   ]
  },
  {
   "cell_type": "markdown",
   "id": "d9b0c9b2",
   "metadata": {},
   "source": [
    "Para as features 'Occupation', Payment_of_Min_Amount', 'Payment_Behaviour' vamos utilizar One-Hot Encoding."
   ]
  },
  {
   "cell_type": "code",
   "execution_count": 54,
   "id": "142cdcd1",
   "metadata": {},
   "outputs": [],
   "source": [
    "#Define as colunas\n",
    "one_hot_cols = ['Occupation', 'Payment_of_Min_Amount', 'Payment_Behaviour']\n",
    "\n",
    "#Instancia e aplica o encoder\n",
    "encoder = OneHotEncoder(sparse_output=False, handle_unknown='ignore')  # sparse=False para retornar um array normal\n",
    "encoded = encoder.fit_transform(df_treinofiltrado_outliers[one_hot_cols])\n",
    "\n",
    "#Converte o array em DataFrame\n",
    "encoded_df = pd.DataFrame(encoded, columns=encoder.get_feature_names_out(one_hot_cols))\n",
    "\n",
    "#Junta com o dataframe original (removendo as colunas originais)\n",
    "df_treinofiltrado_outliers = pd.concat([\n",
    "    df_treinofiltrado_outliers.drop(columns=one_hot_cols).reset_index(drop=True),\n",
    "    encoded_df.reset_index(drop=True)\n",
    "], axis=1)\n",
    "\n",
    "#Fazendo o mesmo pra teste\n",
    "\n",
    "#Transformar os dados de teste com o mesmo encoder já treinado\n",
    "encoded_test = encoder.transform(df_testefiltrado_outliers[one_hot_cols])\n",
    "\n",
    "#Gerar DataFrame com os mesmos nomes de colunas\n",
    "encoded_test_df = pd.DataFrame(encoded_test, columns=encoder.get_feature_names_out(one_hot_cols))\n",
    "\n",
    "#Concatenar com o restante das colunas do teste\n",
    "df_testefiltrado_outliers = pd.concat([\n",
    "    df_testefiltrado_outliers.drop(columns=one_hot_cols).reset_index(drop=True),\n",
    "    encoded_test_df.reset_index(drop=True)\n",
    "], axis=1)"
   ]
  },
  {
   "cell_type": "markdown",
   "id": "a713d7a0",
   "metadata": {},
   "source": [
    "Para 'Type_of_Loan' por conta da contagem grande de elementos diferentes, utilizamos Target Encoding"
   ]
  },
  {
   "cell_type": "code",
   "execution_count": 55,
   "id": "de88f2ed",
   "metadata": {},
   "outputs": [],
   "source": [
    "X = df_treinofiltrado_outliers[['Type_of_Loan']]\n",
    "y = df_treinofiltrado_outliers['Credit_Score']\n",
    "\n",
    "#Inicializando o TargetEncoder com suavização automática\n",
    "enc_auto = TargetEncoder(smooth=\"auto\")\n",
    "\n",
    "#Ajuste e transformação dos dados\n",
    "X_trans = enc_auto.fit_transform(X, y)\n",
    "\n",
    "#Agora X_trans é a versão codificada de X\n",
    "\n",
    "encoded_df = pd.DataFrame(X_trans, columns=enc_auto.get_feature_names_out(['Type_of_Loan']))\n",
    "\n",
    "#Concatendo novamente:\n",
    "df_treinofiltrado_outliers = pd.concat([df_treinofiltrado_outliers, encoded_df], axis=1)\n",
    "df_treinofiltrado_outliers.drop(columns=['Type_of_Loan'], axis=1, inplace=True)\n",
    "\n",
    "#Fazendo o mesmo para Teste\n",
    "X_test = df_testefiltrado_outliers[['Type_of_Loan']]  # A mesma coluna que foi usada para treino\n",
    "X_test_trans = enc_auto.transform(X_test)  # Apenas transforma, não ajusta novamente\n",
    "\n",
    "#Convertemos o X_test_trans para DataFrame para adicionar ao df_teste\n",
    "encoded_test_df = pd.DataFrame(X_test_trans, columns=enc_auto.get_feature_names_out(['Type_of_Loan']))\n",
    "\n",
    "#Adicionando as colunas codificadas ao DataFrame de teste\n",
    "df_testefiltrado_outliers = pd.concat([df_testefiltrado_outliers, encoded_test_df], axis=1)\n",
    "df_testefiltrado_outliers.drop(columns=['Type_of_Loan'], axis=1, inplace=True)\n"
   ]
  },
  {
   "cell_type": "code",
   "execution_count": 56,
   "id": "00f9638b",
   "metadata": {},
   "outputs": [],
   "source": [
    "df_treinofiltrado_outliers['Credit_Score'] = y"
   ]
  },
  {
   "cell_type": "code",
   "execution_count": 57,
   "id": "0b05a69f",
   "metadata": {},
   "outputs": [],
   "source": [
    "#Transformando nossa variável alvo em numérica.\n",
    "\n",
    "#Mapeamento das categorias para valores numéricos\n",
    "credit_score_mapping = {'Good': 1, 'Standard': 2, 'Poor': 3}\n",
    "credit_mix_mapping = {'Good': 1, 'Standard': 2, 'Bad': 3}\n",
    "\n",
    "#Aplicando o mapeamento\n",
    "df_treinofiltrado_outliers['Credit_Score'] = df_treinofiltrado_outliers['Credit_Score'].map(credit_score_mapping)\n",
    "df_treinofiltrado_outliers['Credit_Mix'] = df_treinofiltrado_outliers['Credit_Mix'].map(credit_mix_mapping)\n",
    "df_testefiltrado_outliers['Credit_Mix'] = df_testefiltrado_outliers['Credit_Mix'].map(credit_mix_mapping)"
   ]
  },
  {
   "cell_type": "code",
   "execution_count": 58,
   "id": "e305c735",
   "metadata": {},
   "outputs": [],
   "source": [
    "#Separando os dados (use o df que ainda tem Credit_Score mapeado corretamente)\n",
    "X = df_treinofiltrado_outliers.drop(columns=['Credit_Score'])\n",
    "y = df_treinofiltrado_outliers['Credit_Score']\n",
    "\n",
    "X_train, X_val, y_train, y_val = train_test_split(X, y, test_size=0.2, random_state=42, stratify=y)\n",
    "\n",
    "#Escalando\n",
    "ro_scaler = RobustScaler()\n",
    "X_train_scaled = ro_scaler.fit_transform(X_train)\n",
    "X_val_scaled = ro_scaler.transform(X_val)\n"
   ]
  },
  {
   "cell_type": "code",
   "execution_count": 59,
   "id": "e29bb500",
   "metadata": {},
   "outputs": [
    {
     "name": "stdout",
     "output_type": "stream",
     "text": [
      "Accuracy (validação): 0.7075024730566981\n",
      "              precision    recall  f1-score   support\n",
      "\n",
      "           1       0.61      0.50      0.55      3410\n",
      "           2       0.70      0.82      0.76     10224\n",
      "           3       0.78      0.63      0.70      5573\n",
      "\n",
      "    accuracy                           0.71     19207\n",
      "   macro avg       0.70      0.65      0.67     19207\n",
      "weighted avg       0.71      0.71      0.70     19207\n",
      "\n"
     ]
    }
   ],
   "source": [
    "#Treinando o modelo\n",
    "log_reg = LogisticRegression(max_iter=10000)\n",
    "log_reg.fit(X_train_scaled, y_train)\n",
    "\n",
    "#Avaliando no conjunto de validação\n",
    "y_pred_val = log_reg.predict(X_val_scaled)\n",
    "print(\"Accuracy (validação):\", accuracy_score(y_val, y_pred_val))\n",
    "print(classification_report(y_val, y_pred_val))"
   ]
  },
  {
   "cell_type": "code",
   "execution_count": 60,
   "id": "5964cb97",
   "metadata": {},
   "outputs": [
    {
     "name": "stdout",
     "output_type": "stream",
     "text": [
      "Random Forest - Accuracy: 0.7986671526006144\n",
      "              precision    recall  f1-score   support\n",
      "\n",
      "           1       0.76      0.71      0.73      3410\n",
      "           2       0.81      0.81      0.81     10224\n",
      "           3       0.80      0.82      0.81      5573\n",
      "\n",
      "    accuracy                           0.80     19207\n",
      "   macro avg       0.79      0.78      0.79     19207\n",
      "weighted avg       0.80      0.80      0.80     19207\n",
      "\n"
     ]
    }
   ],
   "source": [
    "#Inicializando o modelo com parâmetros básicos\n",
    "rf_model = RandomForestClassifier(random_state=42, class_weight='balanced')  # 'balanced' para lidar com classes desiguais\n",
    "\n",
    "#Treinando\n",
    "rf_model.fit(X_train_scaled, y_train)\n",
    "\n",
    "#Validando\n",
    "y_pred_rf = rf_model.predict(X_val_scaled)\n",
    "\n",
    "#Avaliando\n",
    "print(\"Random Forest - Accuracy:\", accuracy_score(y_val, y_pred_rf))\n",
    "print(classification_report(y_val, y_pred_rf))"
   ]
  },
  {
   "cell_type": "code",
   "execution_count": 74,
   "id": "c2ae45c1",
   "metadata": {},
   "outputs": [
    {
     "name": "stdout",
     "output_type": "stream",
     "text": [
      "                     Accuracy  Precision    Recall  F1-score\n",
      "Logistic Regression  0.707502   0.696445  0.650799  0.668179\n",
      "Random Forest        0.798667   0.788567  0.783115  0.785520\n"
     ]
    }
   ],
   "source": [
    "#Transformando em um relatório para comparar os modelos\n",
    "report_log = classification_report(y_val, y_pred_val, output_dict=True, zero_division=0)\n",
    "report_rf = classification_report(y_val, y_pred_rf, output_dict=True, zero_division=0)\n",
    "\n",
    "#Extrair as métricas médias -- Macro Avg\n",
    "metrics_df = pd.DataFrame({\n",
    "    'Logistic Regression': {\n",
    "        'Accuracy': accuracy_score(y_val, y_pred_val),\n",
    "        'Precision': report_log['macro avg']['precision'],\n",
    "        'Recall': report_log['macro avg']['recall'],\n",
    "        'F1-score': report_log['macro avg']['f1-score']\n",
    "    },\n",
    "    'Random Forest': {\n",
    "        'Accuracy': accuracy_score(y_val, y_pred_rf),\n",
    "        'Precision': report_rf['macro avg']['precision'],\n",
    "        'Recall': report_rf['macro avg']['recall'],\n",
    "        'F1-score': report_rf['macro avg']['f1-score']\n",
    "    }\n",
    "})\n",
    "\n",
    "print(metrics_df.T)"
   ]
  },
  {
   "cell_type": "markdown",
   "id": "04caa209",
   "metadata": {},
   "source": [
    "O RandomForest, realmente se saiu um modelo melhor em todos os parâmetros."
   ]
  },
  {
   "cell_type": "markdown",
   "id": "3dfa9871",
   "metadata": {},
   "source": [
    "### Teste final - Rodar o modelo na base de teste!"
   ]
  },
  {
   "cell_type": "markdown",
   "id": "dfbed0d3",
   "metadata": {},
   "source": [
    "Vamos verificar o modelo com a base de teste, a base que também trabalhamos ao longo dessa análise."
   ]
  },
  {
   "cell_type": "code",
   "execution_count": 75,
   "id": "362145b0",
   "metadata": {
    "scrolled": true
   },
   "outputs": [
    {
     "name": "stdout",
     "output_type": "stream",
     "text": [
      "Logistic Regression - Previsões: 2    28977\n",
      "3    11824\n",
      "1     7246\n",
      "Name: count, dtype: int64\n",
      "Random Forest - Previsões: 2    25447\n",
      "3    14693\n",
      "1     7907\n",
      "Name: count, dtype: int64\n"
     ]
    }
   ],
   "source": [
    "#Escalando com o mesmo scaler do treino\n",
    "X_test_scaled = ro_scaler.transform(df_testefiltrado_outliers)\n",
    "\n",
    "# Previsões\n",
    "y_pred_test_log = log_reg.predict(X_test_scaled)\n",
    "y_pred_test_rf = rf_model.predict(X_test_scaled)\n",
    "\n",
    "# Exibindo contagem das classes previstas\n",
    "print(\"Logistic Regression - Previsões:\", pd.Series(y_pred_test_log).value_counts())\n",
    "print(\"Random Forest - Previsões:\", pd.Series(y_pred_test_rf).value_counts())"
   ]
  },
  {
   "cell_type": "markdown",
   "id": "e3e8465e",
   "metadata": {},
   "source": [
    "Como a base de teste não possui os rótulos reais (Credit_Score), utilizamos apenas para inferência."
   ]
  },
  {
   "cell_type": "markdown",
   "id": "bbbef8ab",
   "metadata": {},
   "source": [
    "Este projeto foi desenvolvido com foco na limpeza de dados, tratamento de outliers e dados ausentes, encoding de variáveis categóricas e aplicação de dois modelos supervisionados. A base de teste foi utilizada para inferência final, simulando como os modelos se comportariam em dados reais. O modelo Random Forest se destacou em todos os critérios de avaliação, e suas previsões finais foram salvas para entrega ou análise posterior."
   ]
  },
  {
   "cell_type": "code",
   "execution_count": 84,
   "id": "cc2354ef",
   "metadata": {},
   "outputs": [
    {
     "name": "stdout",
     "output_type": "stream",
     "text": [
      "Arquivo salvo com sucesso\n"
     ]
    }
   ],
   "source": [
    "#Salvando os resultados.\n",
    "\n",
    "df_resultados = pd.DataFrame({\n",
    "    'ID': df_testefiltrado_outliers.index,\n",
    "    'Pred_RF': y_pred_test_rf,\n",
    "    'Pred_LogReg': y_pred_test_log\n",
    "})\n",
    "\n",
    "df_resultados.to_csv('predicoes_credit_score.csv', index=False)\n",
    "\n",
    "print('Arquivo salvo com sucesso')"
   ]
  },
  {
   "cell_type": "markdown",
   "id": "e8196179",
   "metadata": {},
   "source": [
    "Lembre-se que 1 -- Good; 2 -- Stantard; 3 -- Poor"
   ]
  },
  {
   "cell_type": "code",
   "execution_count": 85,
   "id": "84d8c5ef",
   "metadata": {},
   "outputs": [
    {
     "data": {
      "text/plain": [
       "<sklearn.metrics._plot.confusion_matrix.ConfusionMatrixDisplay at 0x21180a22b50>"
      ]
     },
     "execution_count": 85,
     "metadata": {},
     "output_type": "execute_result"
    },
    {
     "data": {
      "image/png": "[encoded data removed]",
      "text/plain": [
       "<Figure size 1000x600 with 2 Axes>"
      ]
     },
     "metadata": {},
     "output_type": "display_data"
    }
   ],
   "source": [
    "from sklearn.metrics import confusion_matrix, ConfusionMatrixDisplay\n",
    "\n",
    "cm = confusion_matrix(y_val, y_pred_rf)\n",
    "disp = ConfusionMatrixDisplay(confusion_matrix=cm, display_labels=rf_model.classes_)\n",
    "disp.plot()"
   ]
  },
  {
   "cell_type": "markdown",
   "id": "b643044a",
   "metadata": {},
   "source": [
    "1ª linha (Classe real: 1 – Good)  \n",
    "→ 2.425 valores foram corretamente classificados como Good.  \n",
    "→ 971 foram classificados incorretamente como Standard.  \n",
    "→ 14 foram classificados incorretamente como Poor.  \n",
    "\n",
    "2ª linha (Classe real: 2 – Standard)  \n",
    "→ 735 foram classificados incorretamente como Good.  \n",
    "→ 8.321 foram corretamente classificados como Standard.  \n",
    "→ 1.168 foram classificados incorretamente como Poor.  \n",
    "\n",
    "3ª linha (Classe real: 3 – Poor)  \n",
    "→ 45 foram classificados incorretamente como Good.  \n",
    "→ 934 foram classificados incorretamente como Standard.  \n",
    "→ 4.594 foram corretamente classificados como Poor.  "
   ]
  },
  {
   "cell_type": "code",
   "execution_count": 88,
   "id": "03e56ea3",
   "metadata": {},
   "outputs": [
    {
     "data": {
      "text/html": [
       "<div>\n",
       "<style scoped>\n",
       "    .dataframe tbody tr th:only-of-type {\n",
       "        vertical-align: middle;\n",
       "    }\n",
       "\n",
       "    .dataframe tbody tr th {\n",
       "        vertical-align: top;\n",
       "    }\n",
       "\n",
       "    .dataframe thead th {\n",
       "        text-align: right;\n",
       "    }\n",
       "</style>\n",
       "<table border=\"1\" class=\"dataframe\">\n",
       "  <thead>\n",
       "    <tr style=\"text-align: right;\">\n",
       "      <th></th>\n",
       "      <th>Accuracy</th>\n",
       "      <th>Precision</th>\n",
       "      <th>Recall</th>\n",
       "      <th>F1-score</th>\n",
       "    </tr>\n",
       "  </thead>\n",
       "  <tbody>\n",
       "    <tr>\n",
       "      <th>Logistic Regression</th>\n",
       "      <td>0.707502</td>\n",
       "      <td>0.696445</td>\n",
       "      <td>0.650799</td>\n",
       "      <td>0.668179</td>\n",
       "    </tr>\n",
       "    <tr>\n",
       "      <th>Random Forest</th>\n",
       "      <td>0.798667</td>\n",
       "      <td>0.788567</td>\n",
       "      <td>0.783115</td>\n",
       "      <td>0.785520</td>\n",
       "    </tr>\n",
       "  </tbody>\n",
       "</table>\n",
       "</div>"
      ],
      "text/plain": [
       "                     Accuracy  Precision    Recall  F1-score\n",
       "Logistic Regression  0.707502   0.696445  0.650799  0.668179\n",
       "Random Forest        0.798667   0.788567  0.783115  0.785520"
      ]
     },
     "execution_count": 88,
     "metadata": {},
     "output_type": "execute_result"
    }
   ],
   "source": [
    "metrics_df.T"
   ]
  },
  {
   "cell_type": "code",
   "execution_count": null,
   "id": "290ed112",
   "metadata": {},
   "outputs": [],
   "source": []
  }
 ],
 "metadata": {
  "kernelspec": {
   "display_name": "Python 3 (ipykernel)",
   "language": "python",
   "name": "python3"
  },
  "language_info": {
   "codemirror_mode": {
    "name": "ipython",
    "version": 3
   },
   "file_extension": ".py",
   "mimetype": "text/x-python",
   "name": "python",
   "nbconvert_exporter": "python",
   "pygments_lexer": "ipython3",
   "version": "3.11.5"
  }
 },
 "nbformat": 4,
 "nbformat_minor": 5
}
